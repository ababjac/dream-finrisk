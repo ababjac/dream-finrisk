{
 "cells": [
  {
   "cell_type": "code",
   "execution_count": 1,
   "id": "5d99d816",
   "metadata": {},
   "outputs": [],
   "source": [
    "from sklearn.ensemble import RandomForestClassifier\n",
    "from sklearn.metrics import plot_roc_curve, roc_curve, roc_auc_score\n",
    "import pandas as pd\n",
    "import matplotlib.pyplot as plt\n",
    "import random\n",
    "import os\n",
    "from sklearn import preprocessing\n",
    "import numpy as np\n",
    "from sklearn.model_selection import train_test_split\n",
    "\n",
    "import matplotlib.pyplot as plt\n",
    "import seaborn as sns\n",
    "from sklearn.decomposition import PCA\n",
    "from sklearn.impute import KNNImputer\n",
    "from sklearn.impute import SimpleImputer\n",
    "from sklearn.preprocessing import LabelEncoder"
   ]
  },
  {
   "cell_type": "code",
   "execution_count": 2,
   "id": "2bb76622",
   "metadata": {},
   "outputs": [],
   "source": [
    "from lifelines import KaplanMeierFitter\n",
    "from lifelines.utils import median_survival_times\n",
    "from lifelines import CoxPHFitter\n",
    "from lifelines.statistics import proportional_hazard_test\n",
    "from lifelines import WeibullFitter, ExponentialFitter, LogNormalFitter, LogLogisticFitter\n",
    "from lifelines import WeibullAFTFitter"
   ]
  },
  {
   "cell_type": "code",
   "execution_count": 3,
   "id": "245161e7",
   "metadata": {},
   "outputs": [],
   "source": [
    "BASEDIR = './data/train'"
   ]
  },
  {
   "cell_type": "code",
   "execution_count": 4,
   "id": "bf812ee9",
   "metadata": {},
   "outputs": [
    {
     "data": {
      "text/html": [
       "<div>\n",
       "<style scoped>\n",
       "    .dataframe tbody tr th:only-of-type {\n",
       "        vertical-align: middle;\n",
       "    }\n",
       "\n",
       "    .dataframe tbody tr th {\n",
       "        vertical-align: top;\n",
       "    }\n",
       "\n",
       "    .dataframe thead th {\n",
       "        text-align: right;\n",
       "    }\n",
       "</style>\n",
       "<table border=\"1\" class=\"dataframe\">\n",
       "  <thead>\n",
       "    <tr style=\"text-align: right;\">\n",
       "      <th></th>\n",
       "      <th>Unnamed: 0</th>\n",
       "      <th>Age</th>\n",
       "      <th>BodyMassIndex</th>\n",
       "      <th>Smoking</th>\n",
       "      <th>BPTreatment</th>\n",
       "      <th>PrevalentDiabetes</th>\n",
       "      <th>PrevalentCHD</th>\n",
       "      <th>PrevalentHFAIL</th>\n",
       "      <th>Event</th>\n",
       "      <th>Event_time</th>\n",
       "      <th>SystolicBP</th>\n",
       "      <th>NonHDLcholesterol</th>\n",
       "      <th>Sex</th>\n",
       "    </tr>\n",
       "  </thead>\n",
       "  <tbody>\n",
       "    <tr>\n",
       "      <th>0</th>\n",
       "      <td>Simulated_328</td>\n",
       "      <td>53.618</td>\n",
       "      <td>24.127</td>\n",
       "      <td>0.0</td>\n",
       "      <td>0</td>\n",
       "      <td>0.0</td>\n",
       "      <td>0.0</td>\n",
       "      <td>0.0</td>\n",
       "      <td>0.0</td>\n",
       "      <td>15.750</td>\n",
       "      <td>133.077</td>\n",
       "      <td>3.020</td>\n",
       "      <td>0</td>\n",
       "    </tr>\n",
       "    <tr>\n",
       "      <th>1</th>\n",
       "      <td>Simulated_1644</td>\n",
       "      <td>36.811</td>\n",
       "      <td>27.992</td>\n",
       "      <td>0.0</td>\n",
       "      <td>0</td>\n",
       "      <td>0.0</td>\n",
       "      <td>0.0</td>\n",
       "      <td>0.0</td>\n",
       "      <td>0.0</td>\n",
       "      <td>15.881</td>\n",
       "      <td>108.914</td>\n",
       "      <td>5.480</td>\n",
       "      <td>0</td>\n",
       "    </tr>\n",
       "    <tr>\n",
       "      <th>2</th>\n",
       "      <td>Simulated_1710</td>\n",
       "      <td>49.429</td>\n",
       "      <td>23.664</td>\n",
       "      <td>0.0</td>\n",
       "      <td>0</td>\n",
       "      <td>0.0</td>\n",
       "      <td>0.0</td>\n",
       "      <td>0.0</td>\n",
       "      <td>0.0</td>\n",
       "      <td>15.891</td>\n",
       "      <td>110.064</td>\n",
       "      <td>4.388</td>\n",
       "      <td>1</td>\n",
       "    </tr>\n",
       "    <tr>\n",
       "      <th>3</th>\n",
       "      <td>Simulated_1732</td>\n",
       "      <td>48.842</td>\n",
       "      <td>26.804</td>\n",
       "      <td>0.0</td>\n",
       "      <td>0</td>\n",
       "      <td>0.0</td>\n",
       "      <td>0.0</td>\n",
       "      <td>0.0</td>\n",
       "      <td>0.0</td>\n",
       "      <td>15.918</td>\n",
       "      <td>128.059</td>\n",
       "      <td>5.119</td>\n",
       "      <td>0</td>\n",
       "    </tr>\n",
       "    <tr>\n",
       "      <th>4</th>\n",
       "      <td>Simulated_1727</td>\n",
       "      <td>60.738</td>\n",
       "      <td>29.862</td>\n",
       "      <td>0.0</td>\n",
       "      <td>0</td>\n",
       "      <td>0.0</td>\n",
       "      <td>0.0</td>\n",
       "      <td>0.0</td>\n",
       "      <td>0.0</td>\n",
       "      <td>15.841</td>\n",
       "      <td>169.913</td>\n",
       "      <td>5.740</td>\n",
       "      <td>1</td>\n",
       "    </tr>\n",
       "  </tbody>\n",
       "</table>\n",
       "</div>"
      ],
      "text/plain": [
       "       Unnamed: 0     Age  BodyMassIndex  Smoking  BPTreatment  \\\n",
       "0   Simulated_328  53.618         24.127      0.0            0   \n",
       "1  Simulated_1644  36.811         27.992      0.0            0   \n",
       "2  Simulated_1710  49.429         23.664      0.0            0   \n",
       "3  Simulated_1732  48.842         26.804      0.0            0   \n",
       "4  Simulated_1727  60.738         29.862      0.0            0   \n",
       "\n",
       "   PrevalentDiabetes  PrevalentCHD  PrevalentHFAIL  Event  Event_time  \\\n",
       "0                0.0           0.0             0.0    0.0      15.750   \n",
       "1                0.0           0.0             0.0    0.0      15.881   \n",
       "2                0.0           0.0             0.0    0.0      15.891   \n",
       "3                0.0           0.0             0.0    0.0      15.918   \n",
       "4                0.0           0.0             0.0    0.0      15.841   \n",
       "\n",
       "   SystolicBP  NonHDLcholesterol  Sex  \n",
       "0     133.077              3.020    0  \n",
       "1     108.914              5.480    0  \n",
       "2     110.064              4.388    1  \n",
       "3     128.059              5.119    0  \n",
       "4     169.913              5.740    1  "
      ]
     },
     "execution_count": 4,
     "metadata": {},
     "output_type": "execute_result"
    }
   ],
   "source": [
    "pheno_training = pd.read_csv(\n",
    "    os.path.join(BASEDIR, 'pheno_training.csv')\n",
    ")\n",
    "pheno_training.iloc[0:5]"
   ]
  },
  {
   "cell_type": "code",
   "execution_count": 5,
   "id": "2be85c7a",
   "metadata": {},
   "outputs": [
    {
     "data": {
      "text/plain": [
       "(3615, 13)"
      ]
     },
     "execution_count": 5,
     "metadata": {},
     "output_type": "execute_result"
    }
   ],
   "source": [
    "np.shape(pheno_training)"
   ]
  },
  {
   "cell_type": "code",
   "execution_count": 6,
   "id": "df3e5ca3",
   "metadata": {},
   "outputs": [
    {
     "name": "stdout",
     "output_type": "stream",
     "text": [
      "3615\n"
     ]
    }
   ],
   "source": [
    "print(len(pheno_training['Unnamed: 0'].unique()))"
   ]
  },
  {
   "cell_type": "code",
   "execution_count": 7,
   "id": "37b6888b",
   "metadata": {},
   "outputs": [
    {
     "data": {
      "text/html": [
       "<div>\n",
       "<style scoped>\n",
       "    .dataframe tbody tr th:only-of-type {\n",
       "        vertical-align: middle;\n",
       "    }\n",
       "\n",
       "    .dataframe tbody tr th {\n",
       "        vertical-align: top;\n",
       "    }\n",
       "\n",
       "    .dataframe thead th {\n",
       "        text-align: right;\n",
       "    }\n",
       "</style>\n",
       "<table border=\"1\" class=\"dataframe\">\n",
       "  <thead>\n",
       "    <tr style=\"text-align: right;\">\n",
       "      <th></th>\n",
       "      <th>Unnamed: 0</th>\n",
       "      <th>Simulated_328</th>\n",
       "      <th>Simulated_1644</th>\n",
       "      <th>Simulated_1710</th>\n",
       "      <th>Simulated_1732</th>\n",
       "      <th>Simulated_1727</th>\n",
       "      <th>Simulated_2196</th>\n",
       "      <th>Simulated_1681</th>\n",
       "      <th>Simulated_1651</th>\n",
       "      <th>Simulated_1603</th>\n",
       "      <th>...</th>\n",
       "      <th>Simulated_1676</th>\n",
       "      <th>Simulated_1630</th>\n",
       "      <th>Simulated_1605</th>\n",
       "      <th>Simulated_2202</th>\n",
       "      <th>Simulated_1682</th>\n",
       "      <th>Simulated_1783</th>\n",
       "      <th>Simulated_3425</th>\n",
       "      <th>Simulated_1789</th>\n",
       "      <th>Simulated_1592</th>\n",
       "      <th>Simulated_1731</th>\n",
       "    </tr>\n",
       "  </thead>\n",
       "  <tbody>\n",
       "    <tr>\n",
       "      <th>0</th>\n",
       "      <td>k__Archaea;p__;c__;o__;f__;g__;s__</td>\n",
       "      <td>0</td>\n",
       "      <td>0</td>\n",
       "      <td>0</td>\n",
       "      <td>0</td>\n",
       "      <td>0</td>\n",
       "      <td>0</td>\n",
       "      <td>0</td>\n",
       "      <td>0</td>\n",
       "      <td>0</td>\n",
       "      <td>...</td>\n",
       "      <td>0</td>\n",
       "      <td>0</td>\n",
       "      <td>0</td>\n",
       "      <td>0</td>\n",
       "      <td>0</td>\n",
       "      <td>0</td>\n",
       "      <td>0</td>\n",
       "      <td>0</td>\n",
       "      <td>0</td>\n",
       "      <td>0</td>\n",
       "    </tr>\n",
       "    <tr>\n",
       "      <th>1</th>\n",
       "      <td>k__Archaea;p__Candidatus_Korarchaeota;c__;o__;...</td>\n",
       "      <td>0</td>\n",
       "      <td>0</td>\n",
       "      <td>0</td>\n",
       "      <td>0</td>\n",
       "      <td>0</td>\n",
       "      <td>0</td>\n",
       "      <td>0</td>\n",
       "      <td>0</td>\n",
       "      <td>0</td>\n",
       "      <td>...</td>\n",
       "      <td>0</td>\n",
       "      <td>0</td>\n",
       "      <td>0</td>\n",
       "      <td>0</td>\n",
       "      <td>0</td>\n",
       "      <td>0</td>\n",
       "      <td>0</td>\n",
       "      <td>0</td>\n",
       "      <td>0</td>\n",
       "      <td>0</td>\n",
       "    </tr>\n",
       "    <tr>\n",
       "      <th>2</th>\n",
       "      <td>k__Archaea;p__Crenarchaeota;c__Thermoprotei;o_...</td>\n",
       "      <td>0</td>\n",
       "      <td>0</td>\n",
       "      <td>0</td>\n",
       "      <td>0</td>\n",
       "      <td>0</td>\n",
       "      <td>0</td>\n",
       "      <td>0</td>\n",
       "      <td>0</td>\n",
       "      <td>0</td>\n",
       "      <td>...</td>\n",
       "      <td>0</td>\n",
       "      <td>0</td>\n",
       "      <td>0</td>\n",
       "      <td>0</td>\n",
       "      <td>0</td>\n",
       "      <td>0</td>\n",
       "      <td>0</td>\n",
       "      <td>0</td>\n",
       "      <td>0</td>\n",
       "      <td>0</td>\n",
       "    </tr>\n",
       "  </tbody>\n",
       "</table>\n",
       "<p>3 rows × 3616 columns</p>\n",
       "</div>"
      ],
      "text/plain": [
       "                                          Unnamed: 0  Simulated_328  \\\n",
       "0                 k__Archaea;p__;c__;o__;f__;g__;s__              0   \n",
       "1  k__Archaea;p__Candidatus_Korarchaeota;c__;o__;...              0   \n",
       "2  k__Archaea;p__Crenarchaeota;c__Thermoprotei;o_...              0   \n",
       "\n",
       "   Simulated_1644  Simulated_1710  Simulated_1732  Simulated_1727  \\\n",
       "0               0               0               0               0   \n",
       "1               0               0               0               0   \n",
       "2               0               0               0               0   \n",
       "\n",
       "   Simulated_2196  Simulated_1681  Simulated_1651  Simulated_1603  ...  \\\n",
       "0               0               0               0               0  ...   \n",
       "1               0               0               0               0  ...   \n",
       "2               0               0               0               0  ...   \n",
       "\n",
       "   Simulated_1676  Simulated_1630  Simulated_1605  Simulated_2202  \\\n",
       "0               0               0               0               0   \n",
       "1               0               0               0               0   \n",
       "2               0               0               0               0   \n",
       "\n",
       "   Simulated_1682  Simulated_1783  Simulated_3425  Simulated_1789  \\\n",
       "0               0               0               0               0   \n",
       "1               0               0               0               0   \n",
       "2               0               0               0               0   \n",
       "\n",
       "   Simulated_1592  Simulated_1731  \n",
       "0               0               0  \n",
       "1               0               0  \n",
       "2               0               0  \n",
       "\n",
       "[3 rows x 3616 columns]"
      ]
     },
     "execution_count": 7,
     "metadata": {},
     "output_type": "execute_result"
    }
   ],
   "source": [
    "rc_training = pd.read_csv(\n",
    "    os.path.join(BASEDIR, 'readcounts_training.csv')\n",
    ")\n",
    "rc_training.iloc[0:3]"
   ]
  },
  {
   "cell_type": "code",
   "execution_count": 8,
   "id": "4534a6f3",
   "metadata": {},
   "outputs": [
    {
     "data": {
      "text/plain": [
       "(5748, 3616)"
      ]
     },
     "execution_count": 8,
     "metadata": {},
     "output_type": "execute_result"
    }
   ],
   "source": [
    "np.shape(rc_training)"
   ]
  },
  {
   "cell_type": "code",
   "execution_count": 9,
   "id": "84319eb3",
   "metadata": {},
   "outputs": [],
   "source": [
    "rc_training_t = rc_training.T.reset_index()\n",
    "rc_training_t.columns = rc_training_t.iloc[0]\n",
    "rc_training_t = rc_training_t.drop(0).reset_index()\n",
    "rc_training_t = rc_training_t.drop('index', axis=1)"
   ]
  },
  {
   "cell_type": "code",
   "execution_count": 10,
   "id": "e0035b2d",
   "metadata": {},
   "outputs": [
    {
     "data": {
      "text/html": [
       "<div>\n",
       "<style scoped>\n",
       "    .dataframe tbody tr th:only-of-type {\n",
       "        vertical-align: middle;\n",
       "    }\n",
       "\n",
       "    .dataframe tbody tr th {\n",
       "        vertical-align: top;\n",
       "    }\n",
       "\n",
       "    .dataframe thead th {\n",
       "        text-align: right;\n",
       "    }\n",
       "</style>\n",
       "<table border=\"1\" class=\"dataframe\">\n",
       "  <thead>\n",
       "    <tr style=\"text-align: right;\">\n",
       "      <th></th>\n",
       "      <th>Unnamed: 0</th>\n",
       "      <th>k__Archaea;p__;c__;o__;f__;g__;s__</th>\n",
       "      <th>k__Archaea;p__Candidatus_Korarchaeota;c__;o__;f__;g__;s__</th>\n",
       "      <th>k__Archaea;p__Crenarchaeota;c__Thermoprotei;o__;f__;g__;s__</th>\n",
       "      <th>k__Archaea;p__Crenarchaeota;c__Thermoprotei;o__Acidilobales;f__Acidilobaceae;g__Acidilobus;s__Acidilobus_saccharovorans</th>\n",
       "      <th>k__Archaea;p__Crenarchaeota;c__Thermoprotei;o__Acidilobales;f__Caldisphaeraceae;g__Caldisphaera;s__Caldisphaera_lagunensis</th>\n",
       "      <th>k__Archaea;p__Crenarchaeota;c__Thermoprotei;o__Desulfurococcales;f__Desulfurococcaceae;g__;s__</th>\n",
       "      <th>k__Archaea;p__Crenarchaeota;c__Thermoprotei;o__Desulfurococcales;f__Desulfurococcaceae;g__Aeropyrum;s__Aeropyrum_camini</th>\n",
       "      <th>k__Archaea;p__Crenarchaeota;c__Thermoprotei;o__Desulfurococcales;f__Desulfurococcaceae;g__Desulfurococcus;s__Desulfurococcus_amylolyticus</th>\n",
       "      <th>k__Archaea;p__Crenarchaeota;c__Thermoprotei;o__Desulfurococcales;f__Desulfurococcaceae;g__Desulfurococcus;s__Desulfurococcus_mucosus</th>\n",
       "      <th>...</th>\n",
       "      <th>k__Viruses;p__unclassified_bacterial_viruses;c__Streptococcus_phage_phiARI0460-1;o__;f__;g__;s__</th>\n",
       "      <th>k__Viruses;p__unclassified_bacterial_viruses;c__Streptococcus_phage_phiARI0462;o__;f__;g__;s__</th>\n",
       "      <th>k__Viruses;p__unclassified_bacterial_viruses;c__Streptococcus_phage_phiARI0468-1;o__;f__;g__;s__</th>\n",
       "      <th>k__Viruses;p__unclassified_bacterial_viruses;c__Streptococcus_phage_phiARI0468-2;o__;f__;g__;s__</th>\n",
       "      <th>k__Viruses;p__unclassified_bacterial_viruses;c__Streptococcus_phage_phiBHN167;o__;f__;g__;s__</th>\n",
       "      <th>k__Viruses;p__unclassified_bacterial_viruses;c__Synechococcus_phage_S-CAM3;o__;f__;g__;s__</th>\n",
       "      <th>k__Viruses;p__unclassified_viruses;c__Leptopilina_boulardi_filamentous_virus;o__;f__;g__;s__</th>\n",
       "      <th>k__Viruses;p__unclassified_viruses;c__Mollivirus_sibericum;o__;f__;g__;s__</th>\n",
       "      <th>k__Viruses;p__unclassified_viruses;c__Smacovirusgroup;o__;f__;g__;s__</th>\n",
       "      <th>k__Viruses;p__unclassified_viruses;c__Torulaspora_delbrueckii_dsRNA_Mbarr-1_killer_virus;o__;f__;g__;s__</th>\n",
       "    </tr>\n",
       "  </thead>\n",
       "  <tbody>\n",
       "    <tr>\n",
       "      <th>0</th>\n",
       "      <td>Simulated_328</td>\n",
       "      <td>0</td>\n",
       "      <td>0</td>\n",
       "      <td>0</td>\n",
       "      <td>0</td>\n",
       "      <td>0</td>\n",
       "      <td>0</td>\n",
       "      <td>0</td>\n",
       "      <td>0</td>\n",
       "      <td>0</td>\n",
       "      <td>...</td>\n",
       "      <td>0</td>\n",
       "      <td>0</td>\n",
       "      <td>0</td>\n",
       "      <td>0</td>\n",
       "      <td>0</td>\n",
       "      <td>0</td>\n",
       "      <td>0</td>\n",
       "      <td>0</td>\n",
       "      <td>0</td>\n",
       "      <td>0</td>\n",
       "    </tr>\n",
       "    <tr>\n",
       "      <th>1</th>\n",
       "      <td>Simulated_1644</td>\n",
       "      <td>0</td>\n",
       "      <td>0</td>\n",
       "      <td>0</td>\n",
       "      <td>0</td>\n",
       "      <td>0</td>\n",
       "      <td>0</td>\n",
       "      <td>0</td>\n",
       "      <td>0</td>\n",
       "      <td>1</td>\n",
       "      <td>...</td>\n",
       "      <td>0</td>\n",
       "      <td>0</td>\n",
       "      <td>0</td>\n",
       "      <td>0</td>\n",
       "      <td>0</td>\n",
       "      <td>0</td>\n",
       "      <td>0</td>\n",
       "      <td>0</td>\n",
       "      <td>0</td>\n",
       "      <td>0</td>\n",
       "    </tr>\n",
       "    <tr>\n",
       "      <th>2</th>\n",
       "      <td>Simulated_1710</td>\n",
       "      <td>0</td>\n",
       "      <td>0</td>\n",
       "      <td>0</td>\n",
       "      <td>0</td>\n",
       "      <td>0</td>\n",
       "      <td>0</td>\n",
       "      <td>0</td>\n",
       "      <td>0</td>\n",
       "      <td>0</td>\n",
       "      <td>...</td>\n",
       "      <td>0</td>\n",
       "      <td>0</td>\n",
       "      <td>0</td>\n",
       "      <td>0</td>\n",
       "      <td>0</td>\n",
       "      <td>0</td>\n",
       "      <td>0</td>\n",
       "      <td>0</td>\n",
       "      <td>0</td>\n",
       "      <td>0</td>\n",
       "    </tr>\n",
       "    <tr>\n",
       "      <th>3</th>\n",
       "      <td>Simulated_1732</td>\n",
       "      <td>0</td>\n",
       "      <td>0</td>\n",
       "      <td>0</td>\n",
       "      <td>0</td>\n",
       "      <td>0</td>\n",
       "      <td>0</td>\n",
       "      <td>0</td>\n",
       "      <td>0</td>\n",
       "      <td>0</td>\n",
       "      <td>...</td>\n",
       "      <td>0</td>\n",
       "      <td>2</td>\n",
       "      <td>0</td>\n",
       "      <td>0</td>\n",
       "      <td>0</td>\n",
       "      <td>0</td>\n",
       "      <td>0</td>\n",
       "      <td>0</td>\n",
       "      <td>0</td>\n",
       "      <td>0</td>\n",
       "    </tr>\n",
       "    <tr>\n",
       "      <th>4</th>\n",
       "      <td>Simulated_1727</td>\n",
       "      <td>0</td>\n",
       "      <td>0</td>\n",
       "      <td>0</td>\n",
       "      <td>0</td>\n",
       "      <td>0</td>\n",
       "      <td>0</td>\n",
       "      <td>0</td>\n",
       "      <td>0</td>\n",
       "      <td>0</td>\n",
       "      <td>...</td>\n",
       "      <td>0</td>\n",
       "      <td>0</td>\n",
       "      <td>0</td>\n",
       "      <td>0</td>\n",
       "      <td>0</td>\n",
       "      <td>0</td>\n",
       "      <td>0</td>\n",
       "      <td>0</td>\n",
       "      <td>0</td>\n",
       "      <td>0</td>\n",
       "    </tr>\n",
       "  </tbody>\n",
       "</table>\n",
       "<p>5 rows × 5749 columns</p>\n",
       "</div>"
      ],
      "text/plain": [
       "0      Unnamed: 0 k__Archaea;p__;c__;o__;f__;g__;s__  \\\n",
       "0   Simulated_328                                  0   \n",
       "1  Simulated_1644                                  0   \n",
       "2  Simulated_1710                                  0   \n",
       "3  Simulated_1732                                  0   \n",
       "4  Simulated_1727                                  0   \n",
       "\n",
       "0 k__Archaea;p__Candidatus_Korarchaeota;c__;o__;f__;g__;s__  \\\n",
       "0                                                  0          \n",
       "1                                                  0          \n",
       "2                                                  0          \n",
       "3                                                  0          \n",
       "4                                                  0          \n",
       "\n",
       "0 k__Archaea;p__Crenarchaeota;c__Thermoprotei;o__;f__;g__;s__  \\\n",
       "0                                                  0            \n",
       "1                                                  0            \n",
       "2                                                  0            \n",
       "3                                                  0            \n",
       "4                                                  0            \n",
       "\n",
       "0 k__Archaea;p__Crenarchaeota;c__Thermoprotei;o__Acidilobales;f__Acidilobaceae;g__Acidilobus;s__Acidilobus_saccharovorans  \\\n",
       "0                                                  0                                                                        \n",
       "1                                                  0                                                                        \n",
       "2                                                  0                                                                        \n",
       "3                                                  0                                                                        \n",
       "4                                                  0                                                                        \n",
       "\n",
       "0 k__Archaea;p__Crenarchaeota;c__Thermoprotei;o__Acidilobales;f__Caldisphaeraceae;g__Caldisphaera;s__Caldisphaera_lagunensis  \\\n",
       "0                                                  0                                                                           \n",
       "1                                                  0                                                                           \n",
       "2                                                  0                                                                           \n",
       "3                                                  0                                                                           \n",
       "4                                                  0                                                                           \n",
       "\n",
       "0 k__Archaea;p__Crenarchaeota;c__Thermoprotei;o__Desulfurococcales;f__Desulfurococcaceae;g__;s__  \\\n",
       "0                                                  0                                               \n",
       "1                                                  0                                               \n",
       "2                                                  0                                               \n",
       "3                                                  0                                               \n",
       "4                                                  0                                               \n",
       "\n",
       "0 k__Archaea;p__Crenarchaeota;c__Thermoprotei;o__Desulfurococcales;f__Desulfurococcaceae;g__Aeropyrum;s__Aeropyrum_camini  \\\n",
       "0                                                  0                                                                        \n",
       "1                                                  0                                                                        \n",
       "2                                                  0                                                                        \n",
       "3                                                  0                                                                        \n",
       "4                                                  0                                                                        \n",
       "\n",
       "0 k__Archaea;p__Crenarchaeota;c__Thermoprotei;o__Desulfurococcales;f__Desulfurococcaceae;g__Desulfurococcus;s__Desulfurococcus_amylolyticus  \\\n",
       "0                                                  0                                                                                          \n",
       "1                                                  0                                                                                          \n",
       "2                                                  0                                                                                          \n",
       "3                                                  0                                                                                          \n",
       "4                                                  0                                                                                          \n",
       "\n",
       "0 k__Archaea;p__Crenarchaeota;c__Thermoprotei;o__Desulfurococcales;f__Desulfurococcaceae;g__Desulfurococcus;s__Desulfurococcus_mucosus  \\\n",
       "0                                                  0                                                                                     \n",
       "1                                                  1                                                                                     \n",
       "2                                                  0                                                                                     \n",
       "3                                                  0                                                                                     \n",
       "4                                                  0                                                                                     \n",
       "\n",
       "0  ...  \\\n",
       "0  ...   \n",
       "1  ...   \n",
       "2  ...   \n",
       "3  ...   \n",
       "4  ...   \n",
       "\n",
       "0 k__Viruses;p__unclassified_bacterial_viruses;c__Streptococcus_phage_phiARI0460-1;o__;f__;g__;s__  \\\n",
       "0                                                  0                                                 \n",
       "1                                                  0                                                 \n",
       "2                                                  0                                                 \n",
       "3                                                  0                                                 \n",
       "4                                                  0                                                 \n",
       "\n",
       "0 k__Viruses;p__unclassified_bacterial_viruses;c__Streptococcus_phage_phiARI0462;o__;f__;g__;s__  \\\n",
       "0                                                  0                                               \n",
       "1                                                  0                                               \n",
       "2                                                  0                                               \n",
       "3                                                  2                                               \n",
       "4                                                  0                                               \n",
       "\n",
       "0 k__Viruses;p__unclassified_bacterial_viruses;c__Streptococcus_phage_phiARI0468-1;o__;f__;g__;s__  \\\n",
       "0                                                  0                                                 \n",
       "1                                                  0                                                 \n",
       "2                                                  0                                                 \n",
       "3                                                  0                                                 \n",
       "4                                                  0                                                 \n",
       "\n",
       "0 k__Viruses;p__unclassified_bacterial_viruses;c__Streptococcus_phage_phiARI0468-2;o__;f__;g__;s__  \\\n",
       "0                                                  0                                                 \n",
       "1                                                  0                                                 \n",
       "2                                                  0                                                 \n",
       "3                                                  0                                                 \n",
       "4                                                  0                                                 \n",
       "\n",
       "0 k__Viruses;p__unclassified_bacterial_viruses;c__Streptococcus_phage_phiBHN167;o__;f__;g__;s__  \\\n",
       "0                                                  0                                              \n",
       "1                                                  0                                              \n",
       "2                                                  0                                              \n",
       "3                                                  0                                              \n",
       "4                                                  0                                              \n",
       "\n",
       "0 k__Viruses;p__unclassified_bacterial_viruses;c__Synechococcus_phage_S-CAM3;o__;f__;g__;s__  \\\n",
       "0                                                  0                                           \n",
       "1                                                  0                                           \n",
       "2                                                  0                                           \n",
       "3                                                  0                                           \n",
       "4                                                  0                                           \n",
       "\n",
       "0 k__Viruses;p__unclassified_viruses;c__Leptopilina_boulardi_filamentous_virus;o__;f__;g__;s__  \\\n",
       "0                                                  0                                             \n",
       "1                                                  0                                             \n",
       "2                                                  0                                             \n",
       "3                                                  0                                             \n",
       "4                                                  0                                             \n",
       "\n",
       "0 k__Viruses;p__unclassified_viruses;c__Mollivirus_sibericum;o__;f__;g__;s__  \\\n",
       "0                                                  0                           \n",
       "1                                                  0                           \n",
       "2                                                  0                           \n",
       "3                                                  0                           \n",
       "4                                                  0                           \n",
       "\n",
       "0 k__Viruses;p__unclassified_viruses;c__Smacovirusgroup;o__;f__;g__;s__  \\\n",
       "0                                                  0                      \n",
       "1                                                  0                      \n",
       "2                                                  0                      \n",
       "3                                                  0                      \n",
       "4                                                  0                      \n",
       "\n",
       "0 k__Viruses;p__unclassified_viruses;c__Torulaspora_delbrueckii_dsRNA_Mbarr-1_killer_virus;o__;f__;g__;s__  \n",
       "0                                                  0                                                        \n",
       "1                                                  0                                                        \n",
       "2                                                  0                                                        \n",
       "3                                                  0                                                        \n",
       "4                                                  0                                                        \n",
       "\n",
       "[5 rows x 5749 columns]"
      ]
     },
     "execution_count": 10,
     "metadata": {},
     "output_type": "execute_result"
    }
   ],
   "source": [
    "rc_training_t.iloc[0:5]"
   ]
  },
  {
   "cell_type": "code",
   "execution_count": 11,
   "id": "b526bb00",
   "metadata": {},
   "outputs": [
    {
     "data": {
      "text/plain": [
       "(3615, 5749)"
      ]
     },
     "execution_count": 11,
     "metadata": {},
     "output_type": "execute_result"
    }
   ],
   "source": [
    "np.shape(rc_training_t)"
   ]
  },
  {
   "cell_type": "code",
   "execution_count": 12,
   "id": "b7144d10",
   "metadata": {},
   "outputs": [
    {
     "name": "stdout",
     "output_type": "stream",
     "text": [
      "3615\n"
     ]
    }
   ],
   "source": [
    "print(len(rc_training_t['Unnamed: 0'].unique()))"
   ]
  },
  {
   "cell_type": "code",
   "execution_count": 13,
   "id": "a56fa64d",
   "metadata": {},
   "outputs": [
    {
     "data": {
      "text/html": [
       "<div>\n",
       "<style scoped>\n",
       "    .dataframe tbody tr th:only-of-type {\n",
       "        vertical-align: middle;\n",
       "    }\n",
       "\n",
       "    .dataframe tbody tr th {\n",
       "        vertical-align: top;\n",
       "    }\n",
       "\n",
       "    .dataframe thead th {\n",
       "        text-align: right;\n",
       "    }\n",
       "</style>\n",
       "<table border=\"1\" class=\"dataframe\">\n",
       "  <thead>\n",
       "    <tr style=\"text-align: right;\">\n",
       "      <th></th>\n",
       "      <th>Domain</th>\n",
       "      <th>Phylum</th>\n",
       "      <th>Class</th>\n",
       "      <th>Order</th>\n",
       "      <th>Family</th>\n",
       "      <th>Genus</th>\n",
       "      <th>Species</th>\n",
       "    </tr>\n",
       "  </thead>\n",
       "  <tbody>\n",
       "    <tr>\n",
       "      <th>0</th>\n",
       "      <td>k__Archaea</td>\n",
       "      <td>p__</td>\n",
       "      <td>c__</td>\n",
       "      <td>o__</td>\n",
       "      <td>f__</td>\n",
       "      <td>g__</td>\n",
       "      <td>s__</td>\n",
       "    </tr>\n",
       "    <tr>\n",
       "      <th>1</th>\n",
       "      <td>k__Archaea</td>\n",
       "      <td>p__Candidatus_Korarchaeota</td>\n",
       "      <td>c__</td>\n",
       "      <td>o__</td>\n",
       "      <td>f__</td>\n",
       "      <td>g__</td>\n",
       "      <td>s__</td>\n",
       "    </tr>\n",
       "    <tr>\n",
       "      <th>2</th>\n",
       "      <td>k__Archaea</td>\n",
       "      <td>p__Crenarchaeota</td>\n",
       "      <td>c__Thermoprotei</td>\n",
       "      <td>o__</td>\n",
       "      <td>f__</td>\n",
       "      <td>g__</td>\n",
       "      <td>s__</td>\n",
       "    </tr>\n",
       "  </tbody>\n",
       "</table>\n",
       "</div>"
      ],
      "text/plain": [
       "       Domain                      Phylum            Class Order Family Genus  \\\n",
       "0  k__Archaea                         p__              c__   o__    f__   g__   \n",
       "1  k__Archaea  p__Candidatus_Korarchaeota              c__   o__    f__   g__   \n",
       "2  k__Archaea            p__Crenarchaeota  c__Thermoprotei   o__    f__   g__   \n",
       "\n",
       "  Species  \n",
       "0     s__  \n",
       "1     s__  \n",
       "2     s__  "
      ]
     },
     "execution_count": 13,
     "metadata": {},
     "output_type": "execute_result"
    }
   ],
   "source": [
    "taxtable = pd.read_csv(\n",
    "    os.path.join(BASEDIR, 'taxtable.csv')\n",
    ")\n",
    "taxtable.iloc[0:3]"
   ]
  },
  {
   "cell_type": "markdown",
   "id": "72485504",
   "metadata": {},
   "source": [
    "## Imputing categorical integer values"
   ]
  },
  {
   "cell_type": "code",
   "execution_count": 14,
   "id": "9cf3ccf2",
   "metadata": {},
   "outputs": [],
   "source": [
    "cat_cols = ['Sex', 'Smoking', 'BPTreatment', 'PrevalentDiabetes', 'PrevalentCHD', 'PrevalentHFAIL']\n",
    "\n",
    "for cols in cat_cols:\n",
    "    mask = pheno_training[cols].isnull() \n",
    "    original = pheno_training[cols]\n",
    "    residence_encoder = LabelEncoder()\n",
    "    pheno_training[cols] = residence_encoder.fit_transform(pheno_training[cols])\n",
    "    \n",
    "    #if there is NaN values\n",
    "    if mask.any():\n",
    "        #adding NaN again\n",
    "        pheno_training[cols] = pheno_training[cols].where(~mask, original) \n",
    "        \n",
    "        imputer = KNNImputer(n_neighbors=3)\n",
    "        pheno_training[cols]= imputer.fit_transform(pheno_training[cols].values.reshape(-1, 1))\n",
    "    \n",
    "    pheno_training[cols] = pd.Categorical(pheno_training[cols].astype(int))\n",
    " "
   ]
  },
  {
   "cell_type": "code",
   "execution_count": 15,
   "id": "6453b523",
   "metadata": {},
   "outputs": [
    {
     "data": {
      "text/plain": [
       "Unnamed: 0             object\n",
       "Age                   float64\n",
       "BodyMassIndex         float64\n",
       "Smoking              category\n",
       "BPTreatment          category\n",
       "PrevalentDiabetes    category\n",
       "PrevalentCHD         category\n",
       "PrevalentHFAIL       category\n",
       "Event                 float64\n",
       "Event_time            float64\n",
       "SystolicBP            float64\n",
       "NonHDLcholesterol     float64\n",
       "Sex                  category\n",
       "dtype: object"
      ]
     },
     "execution_count": 15,
     "metadata": {},
     "output_type": "execute_result"
    }
   ],
   "source": [
    "pheno_training.dtypes"
   ]
  },
  {
   "cell_type": "markdown",
   "id": "b7061bb7",
   "metadata": {},
   "source": [
    "## Imputing numeric  values"
   ]
  },
  {
   "cell_type": "code",
   "execution_count": 16,
   "id": "638e2170",
   "metadata": {},
   "outputs": [],
   "source": [
    "num_cols = ['Age', 'BodyMassIndex', 'SystolicBP', 'NonHDLcholesterol']\n",
    "\n",
    "for cols in num_cols:\n",
    "    if pheno_training[cols].isnull().any():\n",
    "        imputer = SimpleImputer(missing_values=np.nan, strategy='median')\n",
    "        pheno_training[cols] = imputer.fit_transform(pheno_training[cols].values.reshape(-1, 1))"
   ]
  },
  {
   "cell_type": "markdown",
   "id": "caf360c8",
   "metadata": {},
   "source": [
    "## Removing rows with NaN for Event"
   ]
  },
  {
   "cell_type": "code",
   "execution_count": 17,
   "id": "ce3cab38",
   "metadata": {},
   "outputs": [
    {
     "name": "stdout",
     "output_type": "stream",
     "text": [
      "(3564, 13)\n",
      "(3564, 5749)\n"
     ]
    }
   ],
   "source": [
    "#pheno_training[pheno_training['Event'].isna()]\n",
    "indices = pheno_training['Event'].notna()\n",
    "pheno_training_p = pheno_training[indices].reset_index().drop('index', axis=1)\n",
    "rc_training_t_p = rc_training_t[indices].reset_index().drop('index', axis=1)\n",
    "print(np.shape(pheno_training_p))\n",
    "print(np.shape(rc_training_t_p))"
   ]
  },
  {
   "cell_type": "markdown",
   "id": "c5181170",
   "metadata": {},
   "source": [
    "## Removing events that occured before baseline"
   ]
  },
  {
   "cell_type": "code",
   "execution_count": 18,
   "id": "748f13e3",
   "metadata": {},
   "outputs": [
    {
     "name": "stdout",
     "output_type": "stream",
     "text": [
      "(3471, 13)\n",
      "(3471, 5749)\n"
     ]
    }
   ],
   "source": [
    "indices = pheno_training_p['Event_time'] >= 0\n",
    "pheno_training_p = pheno_training_p[indices]\n",
    "rc_training_t_p = rc_training_t_p[indices]\n",
    "print(np.shape(pheno_training_p))\n",
    "print(np.shape(rc_training_t_p))"
   ]
  },
  {
   "cell_type": "code",
   "execution_count": 19,
   "id": "46e2050c",
   "metadata": {},
   "outputs": [],
   "source": [
    "event = pd.Categorical(pheno_training_p['Event'].astype(int))"
   ]
  },
  {
   "cell_type": "code",
   "execution_count": 20,
   "id": "2b6b58c1",
   "metadata": {},
   "outputs": [
    {
     "data": {
      "text/plain": [
       "[0, 0, 0, 0, 0, ..., 0, 0, 0, 0, 0]\n",
       "Length: 3471\n",
       "Categories (2, int64): [0, 1]"
      ]
     },
     "execution_count": 20,
     "metadata": {},
     "output_type": "execute_result"
    }
   ],
   "source": [
    "event"
   ]
  },
  {
   "cell_type": "code",
   "execution_count": 21,
   "id": "890c13df",
   "metadata": {},
   "outputs": [],
   "source": [
    "event_time = pheno_training_p['Event_time']"
   ]
  },
  {
   "cell_type": "markdown",
   "id": "2f6b79a4",
   "metadata": {},
   "source": [
    "## Columns with NaN categorical values"
   ]
  },
  {
   "cell_type": "code",
   "execution_count": 22,
   "id": "3ae5ac82",
   "metadata": {},
   "outputs": [
    {
     "data": {
      "text/html": [
       "<div>\n",
       "<style scoped>\n",
       "    .dataframe tbody tr th:only-of-type {\n",
       "        vertical-align: middle;\n",
       "    }\n",
       "\n",
       "    .dataframe tbody tr th {\n",
       "        vertical-align: top;\n",
       "    }\n",
       "\n",
       "    .dataframe thead th {\n",
       "        text-align: right;\n",
       "    }\n",
       "</style>\n",
       "<table border=\"1\" class=\"dataframe\">\n",
       "  <thead>\n",
       "    <tr style=\"text-align: right;\">\n",
       "      <th></th>\n",
       "      <th>Unnamed: 0</th>\n",
       "      <th>Age</th>\n",
       "      <th>BodyMassIndex</th>\n",
       "      <th>Smoking</th>\n",
       "      <th>BPTreatment</th>\n",
       "      <th>PrevalentDiabetes</th>\n",
       "      <th>PrevalentCHD</th>\n",
       "      <th>PrevalentHFAIL</th>\n",
       "      <th>Event</th>\n",
       "      <th>Event_time</th>\n",
       "      <th>SystolicBP</th>\n",
       "      <th>NonHDLcholesterol</th>\n",
       "      <th>Sex</th>\n",
       "    </tr>\n",
       "  </thead>\n",
       "  <tbody>\n",
       "  </tbody>\n",
       "</table>\n",
       "</div>"
      ],
      "text/plain": [
       "Empty DataFrame\n",
       "Columns: [Unnamed: 0, Age, BodyMassIndex, Smoking, BPTreatment, PrevalentDiabetes, PrevalentCHD, PrevalentHFAIL, Event, Event_time, SystolicBP, NonHDLcholesterol, Sex]\n",
       "Index: []"
      ]
     },
     "execution_count": 22,
     "metadata": {},
     "output_type": "execute_result"
    }
   ],
   "source": [
    "pheno_training_p[pheno_training_p.isna().any(axis=1)]"
   ]
  },
  {
   "cell_type": "markdown",
   "id": "7180c4f8",
   "metadata": {},
   "source": [
    "## Concatenating all data"
   ]
  },
  {
   "cell_type": "code",
   "execution_count": 23,
   "id": "0a12b9de",
   "metadata": {},
   "outputs": [],
   "source": [
    "a = pheno_training_p.columns != 'Event'\n",
    "b = pheno_training_p.columns != 'Event_time'"
   ]
  },
  {
   "cell_type": "code",
   "execution_count": 24,
   "id": "d078beba",
   "metadata": {},
   "outputs": [
    {
     "data": {
      "text/html": [
       "<div>\n",
       "<style scoped>\n",
       "    .dataframe tbody tr th:only-of-type {\n",
       "        vertical-align: middle;\n",
       "    }\n",
       "\n",
       "    .dataframe tbody tr th {\n",
       "        vertical-align: top;\n",
       "    }\n",
       "\n",
       "    .dataframe thead th {\n",
       "        text-align: right;\n",
       "    }\n",
       "</style>\n",
       "<table border=\"1\" class=\"dataframe\">\n",
       "  <thead>\n",
       "    <tr style=\"text-align: right;\">\n",
       "      <th></th>\n",
       "      <th>Unnamed: 0</th>\n",
       "      <th>Age</th>\n",
       "      <th>BodyMassIndex</th>\n",
       "      <th>Smoking</th>\n",
       "      <th>BPTreatment</th>\n",
       "      <th>PrevalentDiabetes</th>\n",
       "      <th>PrevalentCHD</th>\n",
       "      <th>PrevalentHFAIL</th>\n",
       "      <th>SystolicBP</th>\n",
       "      <th>NonHDLcholesterol</th>\n",
       "      <th>...</th>\n",
       "      <th>k__Viruses;p__unclassified_bacterial_viruses;c__Streptococcus_phage_phiARI0460-1;o__;f__;g__;s__</th>\n",
       "      <th>k__Viruses;p__unclassified_bacterial_viruses;c__Streptococcus_phage_phiARI0462;o__;f__;g__;s__</th>\n",
       "      <th>k__Viruses;p__unclassified_bacterial_viruses;c__Streptococcus_phage_phiARI0468-1;o__;f__;g__;s__</th>\n",
       "      <th>k__Viruses;p__unclassified_bacterial_viruses;c__Streptococcus_phage_phiARI0468-2;o__;f__;g__;s__</th>\n",
       "      <th>k__Viruses;p__unclassified_bacterial_viruses;c__Streptococcus_phage_phiBHN167;o__;f__;g__;s__</th>\n",
       "      <th>k__Viruses;p__unclassified_bacterial_viruses;c__Synechococcus_phage_S-CAM3;o__;f__;g__;s__</th>\n",
       "      <th>k__Viruses;p__unclassified_viruses;c__Leptopilina_boulardi_filamentous_virus;o__;f__;g__;s__</th>\n",
       "      <th>k__Viruses;p__unclassified_viruses;c__Mollivirus_sibericum;o__;f__;g__;s__</th>\n",
       "      <th>k__Viruses;p__unclassified_viruses;c__Smacovirusgroup;o__;f__;g__;s__</th>\n",
       "      <th>k__Viruses;p__unclassified_viruses;c__Torulaspora_delbrueckii_dsRNA_Mbarr-1_killer_virus;o__;f__;g__;s__</th>\n",
       "    </tr>\n",
       "  </thead>\n",
       "  <tbody>\n",
       "    <tr>\n",
       "      <th>0</th>\n",
       "      <td>Simulated_328</td>\n",
       "      <td>53.618</td>\n",
       "      <td>24.127</td>\n",
       "      <td>0</td>\n",
       "      <td>0</td>\n",
       "      <td>0</td>\n",
       "      <td>0</td>\n",
       "      <td>0</td>\n",
       "      <td>133.077</td>\n",
       "      <td>3.020</td>\n",
       "      <td>...</td>\n",
       "      <td>0</td>\n",
       "      <td>0</td>\n",
       "      <td>0</td>\n",
       "      <td>0</td>\n",
       "      <td>0</td>\n",
       "      <td>0</td>\n",
       "      <td>0</td>\n",
       "      <td>0</td>\n",
       "      <td>0</td>\n",
       "      <td>0</td>\n",
       "    </tr>\n",
       "    <tr>\n",
       "      <th>1</th>\n",
       "      <td>Simulated_1644</td>\n",
       "      <td>36.811</td>\n",
       "      <td>27.992</td>\n",
       "      <td>0</td>\n",
       "      <td>0</td>\n",
       "      <td>0</td>\n",
       "      <td>0</td>\n",
       "      <td>0</td>\n",
       "      <td>108.914</td>\n",
       "      <td>5.480</td>\n",
       "      <td>...</td>\n",
       "      <td>0</td>\n",
       "      <td>0</td>\n",
       "      <td>0</td>\n",
       "      <td>0</td>\n",
       "      <td>0</td>\n",
       "      <td>0</td>\n",
       "      <td>0</td>\n",
       "      <td>0</td>\n",
       "      <td>0</td>\n",
       "      <td>0</td>\n",
       "    </tr>\n",
       "    <tr>\n",
       "      <th>2</th>\n",
       "      <td>Simulated_1710</td>\n",
       "      <td>49.429</td>\n",
       "      <td>23.664</td>\n",
       "      <td>0</td>\n",
       "      <td>0</td>\n",
       "      <td>0</td>\n",
       "      <td>0</td>\n",
       "      <td>0</td>\n",
       "      <td>110.064</td>\n",
       "      <td>4.388</td>\n",
       "      <td>...</td>\n",
       "      <td>0</td>\n",
       "      <td>0</td>\n",
       "      <td>0</td>\n",
       "      <td>0</td>\n",
       "      <td>0</td>\n",
       "      <td>0</td>\n",
       "      <td>0</td>\n",
       "      <td>0</td>\n",
       "      <td>0</td>\n",
       "      <td>0</td>\n",
       "    </tr>\n",
       "    <tr>\n",
       "      <th>3</th>\n",
       "      <td>Simulated_1732</td>\n",
       "      <td>48.842</td>\n",
       "      <td>26.804</td>\n",
       "      <td>0</td>\n",
       "      <td>0</td>\n",
       "      <td>0</td>\n",
       "      <td>0</td>\n",
       "      <td>0</td>\n",
       "      <td>128.059</td>\n",
       "      <td>5.119</td>\n",
       "      <td>...</td>\n",
       "      <td>0</td>\n",
       "      <td>2</td>\n",
       "      <td>0</td>\n",
       "      <td>0</td>\n",
       "      <td>0</td>\n",
       "      <td>0</td>\n",
       "      <td>0</td>\n",
       "      <td>0</td>\n",
       "      <td>0</td>\n",
       "      <td>0</td>\n",
       "    </tr>\n",
       "    <tr>\n",
       "      <th>4</th>\n",
       "      <td>Simulated_1727</td>\n",
       "      <td>60.738</td>\n",
       "      <td>29.862</td>\n",
       "      <td>0</td>\n",
       "      <td>0</td>\n",
       "      <td>0</td>\n",
       "      <td>0</td>\n",
       "      <td>0</td>\n",
       "      <td>169.913</td>\n",
       "      <td>5.740</td>\n",
       "      <td>...</td>\n",
       "      <td>0</td>\n",
       "      <td>0</td>\n",
       "      <td>0</td>\n",
       "      <td>0</td>\n",
       "      <td>0</td>\n",
       "      <td>0</td>\n",
       "      <td>0</td>\n",
       "      <td>0</td>\n",
       "      <td>0</td>\n",
       "      <td>0</td>\n",
       "    </tr>\n",
       "  </tbody>\n",
       "</table>\n",
       "<p>5 rows × 5760 columns</p>\n",
       "</div>"
      ],
      "text/plain": [
       "       Unnamed: 0     Age  BodyMassIndex Smoking BPTreatment  \\\n",
       "0   Simulated_328  53.618         24.127       0           0   \n",
       "1  Simulated_1644  36.811         27.992       0           0   \n",
       "2  Simulated_1710  49.429         23.664       0           0   \n",
       "3  Simulated_1732  48.842         26.804       0           0   \n",
       "4  Simulated_1727  60.738         29.862       0           0   \n",
       "\n",
       "  PrevalentDiabetes PrevalentCHD PrevalentHFAIL  SystolicBP  \\\n",
       "0                 0            0              0     133.077   \n",
       "1                 0            0              0     108.914   \n",
       "2                 0            0              0     110.064   \n",
       "3                 0            0              0     128.059   \n",
       "4                 0            0              0     169.913   \n",
       "\n",
       "   NonHDLcholesterol  ...  \\\n",
       "0              3.020  ...   \n",
       "1              5.480  ...   \n",
       "2              4.388  ...   \n",
       "3              5.119  ...   \n",
       "4              5.740  ...   \n",
       "\n",
       "  k__Viruses;p__unclassified_bacterial_viruses;c__Streptococcus_phage_phiARI0460-1;o__;f__;g__;s__  \\\n",
       "0                                                  0                                                 \n",
       "1                                                  0                                                 \n",
       "2                                                  0                                                 \n",
       "3                                                  0                                                 \n",
       "4                                                  0                                                 \n",
       "\n",
       "  k__Viruses;p__unclassified_bacterial_viruses;c__Streptococcus_phage_phiARI0462;o__;f__;g__;s__  \\\n",
       "0                                                  0                                               \n",
       "1                                                  0                                               \n",
       "2                                                  0                                               \n",
       "3                                                  2                                               \n",
       "4                                                  0                                               \n",
       "\n",
       "  k__Viruses;p__unclassified_bacterial_viruses;c__Streptococcus_phage_phiARI0468-1;o__;f__;g__;s__  \\\n",
       "0                                                  0                                                 \n",
       "1                                                  0                                                 \n",
       "2                                                  0                                                 \n",
       "3                                                  0                                                 \n",
       "4                                                  0                                                 \n",
       "\n",
       "  k__Viruses;p__unclassified_bacterial_viruses;c__Streptococcus_phage_phiARI0468-2;o__;f__;g__;s__  \\\n",
       "0                                                  0                                                 \n",
       "1                                                  0                                                 \n",
       "2                                                  0                                                 \n",
       "3                                                  0                                                 \n",
       "4                                                  0                                                 \n",
       "\n",
       "  k__Viruses;p__unclassified_bacterial_viruses;c__Streptococcus_phage_phiBHN167;o__;f__;g__;s__  \\\n",
       "0                                                  0                                              \n",
       "1                                                  0                                              \n",
       "2                                                  0                                              \n",
       "3                                                  0                                              \n",
       "4                                                  0                                              \n",
       "\n",
       "  k__Viruses;p__unclassified_bacterial_viruses;c__Synechococcus_phage_S-CAM3;o__;f__;g__;s__  \\\n",
       "0                                                  0                                           \n",
       "1                                                  0                                           \n",
       "2                                                  0                                           \n",
       "3                                                  0                                           \n",
       "4                                                  0                                           \n",
       "\n",
       "  k__Viruses;p__unclassified_viruses;c__Leptopilina_boulardi_filamentous_virus;o__;f__;g__;s__  \\\n",
       "0                                                  0                                             \n",
       "1                                                  0                                             \n",
       "2                                                  0                                             \n",
       "3                                                  0                                             \n",
       "4                                                  0                                             \n",
       "\n",
       "  k__Viruses;p__unclassified_viruses;c__Mollivirus_sibericum;o__;f__;g__;s__  \\\n",
       "0                                                  0                           \n",
       "1                                                  0                           \n",
       "2                                                  0                           \n",
       "3                                                  0                           \n",
       "4                                                  0                           \n",
       "\n",
       "  k__Viruses;p__unclassified_viruses;c__Smacovirusgroup;o__;f__;g__;s__  \\\n",
       "0                                                  0                      \n",
       "1                                                  0                      \n",
       "2                                                  0                      \n",
       "3                                                  0                      \n",
       "4                                                  0                      \n",
       "\n",
       "  k__Viruses;p__unclassified_viruses;c__Torulaspora_delbrueckii_dsRNA_Mbarr-1_killer_virus;o__;f__;g__;s__  \n",
       "0                                                  0                                                        \n",
       "1                                                  0                                                        \n",
       "2                                                  0                                                        \n",
       "3                                                  0                                                        \n",
       "4                                                  0                                                        \n",
       "\n",
       "[5 rows x 5760 columns]"
      ]
     },
     "execution_count": 24,
     "metadata": {},
     "output_type": "execute_result"
    }
   ],
   "source": [
    "all_data = pd.concat([pheno_training_p.loc[:, a & b ], rc_training_t_p], axis=1)\n",
    "all_data.iloc[0:5]"
   ]
  },
  {
   "cell_type": "markdown",
   "id": "254a239d",
   "metadata": {},
   "source": [
    "## Kaplan"
   ]
  },
  {
   "cell_type": "code",
   "execution_count": 25,
   "id": "e3200215",
   "metadata": {},
   "outputs": [
    {
     "data": {
      "text/plain": [
       "<AxesSubplot:xlabel='timeline'>"
      ]
     },
     "execution_count": 25,
     "metadata": {},
     "output_type": "execute_result"
    },
    {
     "data": {
      "image/png": "[encoded data removed]",
      "text/plain": [
       "<Figure size 432x288 with 1 Axes>"
      ]
     },
     "metadata": {
      "needs_background": "light"
     },
     "output_type": "display_data"
    }
   ],
   "source": [
    "kmf = KaplanMeierFitter()\n",
    "kmf.fit(durations = event_time, event_observed = event)\n",
    "kmf.plot_survival_function()"
   ]
  },
  {
   "cell_type": "code",
   "execution_count": 26,
   "id": "098e9b1e",
   "metadata": {},
   "outputs": [
    {
     "data": {
      "text/plain": [
       "<AxesSubplot:xlabel='timeline'>"
      ]
     },
     "execution_count": 26,
     "metadata": {},
     "output_type": "execute_result"
    },
    {
     "data": {
      "image/png": "[encoded data removed]",
      "text/plain": [
       "<Figure size 432x288 with 1 Axes>"
      ]
     },
     "metadata": {
      "needs_background": "light"
     },
     "output_type": "display_data"
    }
   ],
   "source": [
    "kmf.plot_cumulative_density()"
   ]
  },
  {
   "cell_type": "code",
   "execution_count": 27,
   "id": "ccde8b3d",
   "metadata": {},
   "outputs": [
    {
     "name": "stdout",
     "output_type": "stream",
     "text": [
      "inf\n",
      "     KM_estimate_lower_0.95  KM_estimate_upper_0.95\n",
      "0.5                    16.0                     inf\n"
     ]
    }
   ],
   "source": [
    "median_ = kmf.median_survival_time_\n",
    "median_confidence_interval_ = median_survival_times(kmf.confidence_interval_)\n",
    "print(median_)\n",
    "print(median_confidence_interval_)"
   ]
  },
  {
   "cell_type": "code",
   "execution_count": 28,
   "id": "84856a74",
   "metadata": {
    "scrolled": true
   },
   "outputs": [
    {
     "data": {
      "text/plain": [
       "Text(0.5, 1.0, 'Survival of different gender group')"
      ]
     },
     "execution_count": 28,
     "metadata": {},
     "output_type": "execute_result"
    },
    {
     "data": {
      "image/png": "[encoded data removed]",
      "text/plain": [
       "<Figure size 432x288 with 2 Axes>"
      ]
     },
     "metadata": {
      "needs_background": "light"
     },
     "output_type": "display_data"
    }
   ],
   "source": [
    "ax = plt.subplot(111)\n",
    "m = (all_data[\"Sex\"] == 0)\n",
    "kmf.fit(durations = event_time[m], event_observed = event[m], label = \"Female\")\n",
    "kmf.plot_survival_function(ax = ax, at_risk_counts = True)\n",
    "kmf.fit(event_time[~m], event_observed = event[~m], label = \"Male\")\n",
    "kmf.plot_survival_function(ax = ax)\n",
    "plt.title(\"Survival of different gender group\")"
   ]
  },
  {
   "cell_type": "markdown",
   "id": "f65b7297",
   "metadata": {},
   "source": [
    "### Age ranges"
   ]
  },
  {
   "cell_type": "code",
   "execution_count": 60,
   "id": "96a8a79b",
   "metadata": {},
   "outputs": [],
   "source": [
    "all_data['age_range'] = 0"
   ]
  },
  {
   "cell_type": "code",
   "execution_count": 61,
   "id": "81387474",
   "metadata": {},
   "outputs": [],
   "source": [
    "ind_age = (34 < all_data['Age']) & (all_data['Age'] < 44)\n",
    "all_data.loc[ind_age, 'age_range'] = 1"
   ]
  },
  {
   "cell_type": "code",
   "execution_count": 62,
   "id": "d18d3d33",
   "metadata": {},
   "outputs": [],
   "source": [
    "ind_age = (44 < all_data['Age']) & (all_data['Age'] < 54)\n",
    "all_data.loc[ind_age, 'age_range'] = 2"
   ]
  },
  {
   "cell_type": "code",
   "execution_count": 63,
   "id": "fd218790",
   "metadata": {},
   "outputs": [],
   "source": [
    "ind_age = (54 < all_data['Age']) & (all_data['Age'] < 64)\n",
    "all_data.loc[ind_age, 'age_range'] = 3"
   ]
  },
  {
   "cell_type": "code",
   "execution_count": 64,
   "id": "77daa365",
   "metadata": {},
   "outputs": [],
   "source": [
    "ind_age = 64 < all_data['bAge']\n",
    "all_data.loc[ind_age, 'age_range'] = 4"
   ]
  },
  {
   "cell_type": "code",
   "execution_count": 65,
   "id": "41675a7e",
   "metadata": {},
   "outputs": [
    {
     "data": {
      "text/plain": [
       "3    848\n",
       "0    722\n",
       "4    675\n",
       "2    624\n",
       "1    602\n",
       "Name: age_range, dtype: int64"
      ]
     },
     "execution_count": 65,
     "metadata": {},
     "output_type": "execute_result"
    }
   ],
   "source": [
    "all_data['age_range'].value_counts()"
   ]
  },
  {
   "cell_type": "code",
   "execution_count": 74,
   "id": "459a3cec",
   "metadata": {},
   "outputs": [
    {
     "ename": "ValueError",
     "evalue": "num must be 1 <= num <= 4, not 5",
     "output_type": "error",
     "traceback": [
      "\u001b[1;31m---------------------------------------------------------------------------\u001b[0m",
      "\u001b[1;31mValueError\u001b[0m                                Traceback (most recent call last)",
      "\u001b[1;32m~\\AppData\\Local\\Temp/ipykernel_1300/3923509797.py\u001b[0m in \u001b[0;36m<module>\u001b[1;34m\u001b[0m\n\u001b[0;32m      1\u001b[0m \u001b[0mage_groups\u001b[0m \u001b[1;33m=\u001b[0m \u001b[0mall_data\u001b[0m\u001b[1;33m.\u001b[0m\u001b[0msort_values\u001b[0m\u001b[1;33m(\u001b[0m\u001b[0mby\u001b[0m \u001b[1;33m=\u001b[0m \u001b[1;33m[\u001b[0m\u001b[1;34m'age_range'\u001b[0m\u001b[1;33m]\u001b[0m\u001b[1;33m)\u001b[0m\u001b[1;33m[\u001b[0m\u001b[1;34m\"age_range\"\u001b[0m\u001b[1;33m]\u001b[0m\u001b[1;33m.\u001b[0m\u001b[0munique\u001b[0m\u001b[1;33m(\u001b[0m\u001b[1;33m)\u001b[0m\u001b[1;33m\u001b[0m\u001b[1;33m\u001b[0m\u001b[0m\n\u001b[0;32m      2\u001b[0m \u001b[1;32mfor\u001b[0m \u001b[0mi\u001b[0m\u001b[1;33m,\u001b[0m \u001b[0mage_groups\u001b[0m \u001b[1;32min\u001b[0m \u001b[0menumerate\u001b[0m\u001b[1;33m(\u001b[0m\u001b[0mage_groups\u001b[0m\u001b[1;33m)\u001b[0m\u001b[1;33m:\u001b[0m\u001b[1;33m\u001b[0m\u001b[1;33m\u001b[0m\u001b[0m\n\u001b[1;32m----> 3\u001b[1;33m   \u001b[0max\u001b[0m \u001b[1;33m=\u001b[0m \u001b[0mplt\u001b[0m\u001b[1;33m.\u001b[0m\u001b[0msubplot\u001b[0m\u001b[1;33m(\u001b[0m\u001b[1;36m2\u001b[0m\u001b[1;33m,\u001b[0m \u001b[1;36m2\u001b[0m\u001b[1;33m,\u001b[0m \u001b[0mi\u001b[0m \u001b[1;33m+\u001b[0m \u001b[1;36m1\u001b[0m\u001b[1;33m)\u001b[0m\u001b[1;33m\u001b[0m\u001b[1;33m\u001b[0m\u001b[0m\n\u001b[0m\u001b[0;32m      4\u001b[0m   \u001b[0mix\u001b[0m \u001b[1;33m=\u001b[0m \u001b[0mall_data\u001b[0m\u001b[1;33m[\u001b[0m\u001b[1;34m'age_range'\u001b[0m\u001b[1;33m]\u001b[0m \u001b[1;33m==\u001b[0m \u001b[0mage_groups\u001b[0m\u001b[1;33m\u001b[0m\u001b[1;33m\u001b[0m\u001b[0m\n\u001b[0;32m      5\u001b[0m   \u001b[0mkmf\u001b[0m\u001b[1;33m.\u001b[0m\u001b[0mfit\u001b[0m\u001b[1;33m(\u001b[0m\u001b[0mevent_time\u001b[0m\u001b[1;33m[\u001b[0m\u001b[0mix\u001b[0m\u001b[1;33m]\u001b[0m\u001b[1;33m,\u001b[0m \u001b[0mevent\u001b[0m\u001b[1;33m[\u001b[0m\u001b[0mix\u001b[0m\u001b[1;33m]\u001b[0m\u001b[1;33m,\u001b[0m \u001b[0mlabel\u001b[0m \u001b[1;33m=\u001b[0m \u001b[0mage_groups\u001b[0m\u001b[1;33m)\u001b[0m\u001b[1;33m\u001b[0m\u001b[1;33m\u001b[0m\u001b[0m\n",
      "\u001b[1;32mc:\\users\\asus\\appdata\\local\\programs\\python\\python39\\lib\\site-packages\\matplotlib\\pyplot.py\u001b[0m in \u001b[0;36msubplot\u001b[1;34m(*args, **kwargs)\u001b[0m\n\u001b[0;32m   1270\u001b[0m \u001b[1;33m\u001b[0m\u001b[0m\n\u001b[0;32m   1271\u001b[0m     \u001b[1;31m# First, search for an existing subplot with a matching spec.\u001b[0m\u001b[1;33m\u001b[0m\u001b[1;33m\u001b[0m\u001b[1;33m\u001b[0m\u001b[0m\n\u001b[1;32m-> 1272\u001b[1;33m     \u001b[0mkey\u001b[0m \u001b[1;33m=\u001b[0m \u001b[0mSubplotSpec\u001b[0m\u001b[1;33m.\u001b[0m\u001b[0m_from_subplot_args\u001b[0m\u001b[1;33m(\u001b[0m\u001b[0mfig\u001b[0m\u001b[1;33m,\u001b[0m \u001b[0margs\u001b[0m\u001b[1;33m)\u001b[0m\u001b[1;33m\u001b[0m\u001b[1;33m\u001b[0m\u001b[0m\n\u001b[0m\u001b[0;32m   1273\u001b[0m \u001b[1;33m\u001b[0m\u001b[0m\n\u001b[0;32m   1274\u001b[0m     \u001b[1;32mfor\u001b[0m \u001b[0max\u001b[0m \u001b[1;32min\u001b[0m \u001b[0mfig\u001b[0m\u001b[1;33m.\u001b[0m\u001b[0maxes\u001b[0m\u001b[1;33m:\u001b[0m\u001b[1;33m\u001b[0m\u001b[1;33m\u001b[0m\u001b[0m\n",
      "\u001b[1;32mc:\\users\\asus\\appdata\\local\\programs\\python\\python39\\lib\\site-packages\\matplotlib\\gridspec.py\u001b[0m in \u001b[0;36m_from_subplot_args\u001b[1;34m(figure, args)\u001b[0m\n\u001b[0;32m    651\u001b[0m                     \u001b[0mnum\u001b[0m \u001b[1;33m=\u001b[0m \u001b[0mint\u001b[0m\u001b[1;33m(\u001b[0m\u001b[0mnum\u001b[0m\u001b[1;33m)\u001b[0m\u001b[1;33m\u001b[0m\u001b[1;33m\u001b[0m\u001b[0m\n\u001b[0;32m    652\u001b[0m                 \u001b[1;32mif\u001b[0m \u001b[0mnum\u001b[0m \u001b[1;33m<\u001b[0m \u001b[1;36m1\u001b[0m \u001b[1;32mor\u001b[0m \u001b[0mnum\u001b[0m \u001b[1;33m>\u001b[0m \u001b[0mrows\u001b[0m\u001b[1;33m*\u001b[0m\u001b[0mcols\u001b[0m\u001b[1;33m:\u001b[0m\u001b[1;33m\u001b[0m\u001b[1;33m\u001b[0m\u001b[0m\n\u001b[1;32m--> 653\u001b[1;33m                     raise ValueError(\n\u001b[0m\u001b[0;32m    654\u001b[0m                         f\"num must be 1 <= num <= {rows*cols}, not {num}\")\n\u001b[0;32m    655\u001b[0m                 \u001b[0mi\u001b[0m \u001b[1;33m=\u001b[0m \u001b[0mj\u001b[0m \u001b[1;33m=\u001b[0m \u001b[0mnum\u001b[0m\u001b[1;33m\u001b[0m\u001b[1;33m\u001b[0m\u001b[0m\n",
      "\u001b[1;31mValueError\u001b[0m: num must be 1 <= num <= 4, not 5"
     ]
    },
    {
     "data": {
      "image/png": "[encoded data removed]",
      "text/plain": [
       "<Figure size 432x288 with 4 Axes>"
      ]
     },
     "metadata": {
      "needs_background": "light"
     },
     "output_type": "display_data"
    }
   ],
   "source": [
    "age_groups = all_data.sort_values(by = ['age_range'])[\"age_range\"].unique()\n",
    "for i, age_groups in enumerate(age_groups):\n",
    "  ax = plt.subplot(2, 2, i + 1)\n",
    "  ix = all_data['age_range'] == age_groups\n",
    "  kmf.fit(event_time[ix], event[ix], label = age_groups)\n",
    "  kmf.plot_survival_function(ax = ax, legend = False)\n",
    "  plt.title(age_groups)\n",
    "  plt.xlim(0, 1200)\n",
    "plt.tight_layout()"
   ]
  },
  {
   "cell_type": "code",
   "execution_count": 67,
   "id": "0f6e1eb1",
   "metadata": {},
   "outputs": [
    {
     "data": {
      "text/plain": [
       "0    3178\n",
       "1     293\n",
       "dtype: int64"
      ]
     },
     "execution_count": 67,
     "metadata": {},
     "output_type": "execute_result"
    }
   ],
   "source": [
    "event.value_counts()"
   ]
  },
  {
   "cell_type": "markdown",
   "id": "6656932e",
   "metadata": {},
   "source": [
    "## PCA"
   ]
  },
  {
   "cell_type": "code",
   "execution_count": 148,
   "id": "217d074c",
   "metadata": {},
   "outputs": [],
   "source": [
    "col_names = all_data.columns.tolist()"
   ]
  },
  {
   "cell_type": "code",
   "execution_count": 40,
   "id": "61bf54e3",
   "metadata": {},
   "outputs": [],
   "source": [
    "rc_training_pca = rc_training_t_p.iloc[:, 1:]"
   ]
  },
  {
   "cell_type": "code",
   "execution_count": 43,
   "id": "969ddf3a",
   "metadata": {},
   "outputs": [],
   "source": [
    "x_train, x_test, y_train, y_test = train_test_split(rc_training_pca, event, test_size=0.20, random_state = 42)"
   ]
  },
  {
   "cell_type": "code",
   "execution_count": 46,
   "id": "39113b0d",
   "metadata": {},
   "outputs": [
    {
     "data": {
      "image/png": "[encoded data removed]",
      "text/plain": [
       "<Figure size 432x288 with 1 Axes>"
      ]
     },
     "metadata": {},
     "output_type": "display_data"
    },
    {
     "data": {
      "text/plain": [
       "None"
      ]
     },
     "metadata": {},
     "output_type": "display_data"
    }
   ],
   "source": [
    "pca_test = PCA(n_components=80)\n",
    "pca_test.fit(x_train)\n",
    "\n",
    "sns.set(style='whitegrid')\n",
    "plt.plot(np.cumsum(pca_test.explained_variance_ratio_))\n",
    "plt.xlabel('number of components')\n",
    "plt.ylabel('cumulative explained variance')\n",
    "plt.axvline(linewidth=4, color='r', linestyle = '--', x=40, ymin=0, ymax=1)\n",
    "display(plt.show())\n"
   ]
  },
  {
   "cell_type": "code",
   "execution_count": null,
   "id": "6d6cdc2b",
   "metadata": {},
   "outputs": [],
   "source": [
    "# evr = pca_test.explained_variance_ratio_\n",
    "# evr\n",
    "# cvr = np.cumsum(pca_test.explained_variance_ratio_)\n",
    "# pca_df = pd.DataFrame()\n",
    "# pca_df['Cumulative Variance Ratio'] = cvr\n",
    "# pca_df['Explained Variance Ratio'] = evr\n",
    "# display(pca_df.head(40))"
   ]
  },
  {
   "cell_type": "code",
   "execution_count": 182,
   "id": "e62b6e82",
   "metadata": {},
   "outputs": [],
   "source": [
    "pca = PCA(n_components=40)\n",
    "pca.fit(x_train)\n",
    "x_train_pca = pca.transform(x_train)\n",
    "x_test_pca = pca.transform(x_test)"
   ]
  }
 ],
 "metadata": {
  "kernelspec": {
   "display_name": "Python 3 (ipykernel)",
   "language": "python",
   "name": "python3"
  },
  "language_info": {
   "codemirror_mode": {
    "name": "ipython",
    "version": 3
   },
   "file_extension": ".py",
   "mimetype": "text/x-python",
   "name": "python",
   "nbconvert_exporter": "python",
   "pygments_lexer": "ipython3",
   "version": "3.9.0"
  }
 },
 "nbformat": 4,
 "nbformat_minor": 5
}
