{
 "cells": [
  {
   "cell_type": "code",
   "execution_count": 85,
   "id": "5924652e-416e-445d-a240-71564a8fa42c",
   "metadata": {},
   "outputs": [],
   "source": [
    "#libraries\n",
    "import pandas as pd\n",
    "import numpy as np\n",
    "import sys\n",
    "import os\n",
    "\n",
    "from lifelines.utils import concordance_index\n",
    "from sklearn.model_selection import train_test_split\n",
    "from sksurv.ensemble import RandomSurvivalForest, GradientBoostingSurvivalAnalysis\n",
    "from sksurv.svm import FastKernelSurvivalSVM\n",
    "from sksurv.linear_model import CoxnetSurvivalAnalysis\n",
    "from sklearn.impute import KNNImputer\n",
    "from keras.wrappers.scikit_learn import KerasClassifier\n",
    "from tensorflow import keras as ks\n",
    "from sklearn.model_selection import GridSearchCV\n",
    "from sklearn.preprocessing import StandardScaler, MinMaxScaler, normalize\n",
    "from sklearn.linear_model import Lasso\n",
    "from sksurv.util import Surv"
   ]
  },
  {
   "cell_type": "code",
   "execution_count": 38,
   "id": "8665d058-0786-4c7f-9a29-32747a37f28a",
   "metadata": {},
   "outputs": [],
   "source": [
    "def fillNA(df, k_neighbors=10, index=[]):\n",
    "    if not list(index):\n",
    "        index = df.index\n",
    "    \n",
    "    X = df.values\n",
    "    knn = KNNImputer(n_neighbors=k_neighbors)\n",
    "    X_imp = knn.fit_transform(X)\n",
    "    \n",
    "    df_imp = pd.DataFrame(X_imp, columns=df.columns)\n",
    "    df_imp.set_index(index, inplace=True)\n",
    "    \n",
    "    return df_imp\n",
    "\n",
    "def minmax_scale(train, test):\n",
    "    xtrain_scaled = pd.DataFrame(MinMaxScaler().fit_transform(train), columns=train.columns)\n",
    "    xtest_scaled = pd.DataFrame(MinMaxScaler().fit_transform(test), columns=test.columns)\n",
    "    return xtrain_scaled, xtest_scaled  \n",
    "\n",
    "def split_and_scale_data(features, labels, test_size=0.3):\n",
    "    X_train, X_test, y_train, y_test = train_test_split(features, labels, test_size=test_size, random_state=5, stratify=labels)\n",
    "    X_train_scaled, X_test_scaled = minmax_scale(X_train, X_test)\n",
    "    X_train_scaled.set_index(X_train.index, inplace=True)\n",
    "    X_test_scaled.set_index(X_test.index, inplace=True)\n",
    "\n",
    "    return X_train_scaled, X_test_scaled, y_train, y_test\n",
    "\n",
    "def make_structured_array(event, time):\n",
    "    return Surv.from_arrays(event, time)\n",
    "\n",
    "class Autoencoder(ks.models.Model):\n",
    "    def __init__(self, actual_dim, latent_dim, activation, loss, optimizer):\n",
    "        super(Autoencoder, self).__init__()\n",
    "        self.latent_dim = latent_dim\n",
    "\n",
    "        self.encoder = ks.Sequential([\n",
    "        ks.layers.Flatten(),\n",
    "        ks.layers.Dense(latent_dim, activation=activation),\n",
    "        ])\n",
    "\n",
    "        self.decoder = ks.Sequential([\n",
    "        ks.layers.Dense(actual_dim, activation=activation),\n",
    "        ])\n",
    "\n",
    "        self.compile(loss=loss, optimizer=optimizer, metrics=[ks.metrics.BinaryAccuracy(name='accuracy')])\n",
    "\n",
    "    def call(self, x):\n",
    "        encoded = self.encoder(x)\n",
    "        decoded = self.decoder(encoded)\n",
    "        return decoded\n",
    "\n",
    "def create_AE(actual_dim=1, latent_dim=100, activation='relu', loss='MAE', optimizer='Adam'):\n",
    "    return Autoencoder(actual_dim, latent_dim, activation, loss, optimizer)\n",
    "\n",
    "def run_AE(X_train_scaled, X_test_scaled, param_grid=None):\n",
    "\n",
    "    if param_grid == None:\n",
    "        param_grid = {\n",
    "            'actual_dim' : [len(X_train_scaled.columns)],\n",
    "            'latent_dim' : [100, 200, 500],\n",
    "            'activation' : ['relu', 'sigmoid', 'tanh'],\n",
    "            'loss' : ['MAE', 'binary_crossentropy'],\n",
    "            'optimizer' : ['SGD', 'Adam']\n",
    "        }\n",
    "\n",
    "    model = KerasClassifier(build_fn=create_AE, epochs=10, verbose=0)\n",
    "    grid = GridSearchCV(\n",
    "        estimator=model,\n",
    "        param_grid=param_grid,\n",
    "        cv=5,\n",
    "        verbose=3\n",
    "    )\n",
    "\n",
    "    result = grid.fit(X_train_scaled, X_train_scaled, validation_data=(X_test_scaled, X_test_scaled))\n",
    "    params = grid.best_params_\n",
    "    autoencoder = create_AE(**params)\n",
    "\n",
    "    try:\n",
    "        encoder_layer = autoencoder.encoder\n",
    "    except:\n",
    "        exit\n",
    "\n",
    "    AE_train = pd.DataFrame(encoder_layer.predict(X_train_scaled))\n",
    "    AE_train.add_prefix('feature_')\n",
    "    AE_test = pd.DataFrame(encoder_layer.predict(X_test_scaled))\n",
    "    AE_test.add_prefix('feature_')\n",
    "\n",
    "    return AE_train, AE_test\n",
    "\n",
    "def run_LASSO(X_train_scaled, y_train, param_grid = None):\n",
    "    if param_grid == None:\n",
    "        param_grid = {'alpha': [0.0001, 0.001, 0.01, 0.1, 1, 10]}\n",
    "\n",
    "    search = GridSearchCV(estimator = Lasso(),\n",
    "                          param_grid = param_grid,\n",
    "                          cv = 5,\n",
    "                          scoring=\"neg_mean_squared_error\",\n",
    "                          verbose=3\n",
    "                          )\n",
    "\n",
    "    search.fit(X_train_scaled, y_train)\n",
    "    coefficients = search.best_estimator_.coef_\n",
    "    importance = np.abs(coefficients)\n",
    "    keep = np.array(X_train_scaled.columns)[importance != 0]\n",
    "\n",
    "    return keep"
   ]
  },
  {
   "cell_type": "code",
   "execution_count": 3,
   "id": "8eaecedc-c79a-4c71-b112-659daf73c0b5",
   "metadata": {},
   "outputs": [],
   "source": [
    "INPUT_DIR = sys.argv[1]"
   ]
  },
  {
   "cell_type": "code",
   "execution_count": 21,
   "id": "cdaa0cc7-c620-4b2a-828d-024746c1f7b8",
   "metadata": {},
   "outputs": [],
   "source": [
    "reads_train = pd.read_csv(INPUT_DIR+'/train/readcounts_training.csv', index_col=0)\n",
    "pheno_train = pd.read_csv(INPUT_DIR+'/train/pheno_training.csv', index_col=0)"
   ]
  },
  {
   "cell_type": "code",
   "execution_count": 22,
   "id": "12f1167c-f465-4d65-b82e-562832c30134",
   "metadata": {},
   "outputs": [],
   "source": [
    "pheno_train = pheno_train.dropna(subset=['Event', 'Event_time']) #should not try to correct these\n",
    "reads_train = reads_train.T\n",
    "train_ids = pheno_train.index"
   ]
  },
  {
   "cell_type": "code",
   "execution_count": 23,
   "id": "4af31f93-f01c-4994-89ad-3f9edd4fa2bd",
   "metadata": {},
   "outputs": [],
   "source": [
    "reads_test = pd.read_csv(INPUT_DIR+'/test/readcounts_test.csv', index_col=0)\n",
    "pheno_test = pd.read_csv(INPUT_DIR+'/test/pheno_test.csv', index_col=0)"
   ]
  },
  {
   "cell_type": "code",
   "execution_count": 24,
   "id": "789c8cb1-9401-44bf-9664-c60524066646",
   "metadata": {},
   "outputs": [],
   "source": [
    "pheno_test = pheno_test.dropna(subset=['Event', 'Event_time']) #should not try to correct these\n",
    "reads_test = reads_test.T\n",
    "test_ids = pheno_test.index"
   ]
  },
  {
   "cell_type": "code",
   "execution_count": 25,
   "id": "6a338574-f9c2-4f17-8b26-6e4705318d18",
   "metadata": {},
   "outputs": [],
   "source": [
    "reads_full = pd.concat([reads_train, reads_test])\n",
    "pheno_full = pd.concat([pheno_train, pheno_test])"
   ]
  },
  {
   "cell_type": "code",
   "execution_count": 26,
   "id": "79fc6fe8-2536-4273-a873-52acc3dd9531",
   "metadata": {},
   "outputs": [],
   "source": [
    "pheno_full = fillNA(pheno_full, index=pheno_full.index) #fast KNN"
   ]
  },
  {
   "cell_type": "code",
   "execution_count": 39,
   "id": "5621fb12-61bf-42d0-871d-c72758b3caf7",
   "metadata": {},
   "outputs": [],
   "source": [
    "features = pd.merge(reads_full, pheno_full, left_index=True, right_index=True)\n",
    "labels = features.pop('Event')\n",
    "true_labels = labels.copy()\n",
    "#labels.value_counts() # 0 - 4898, 1 - 445 --> highly imbalanced\n",
    "\n",
    "X_train, y_train = features.loc[train_ids], labels[train_ids]\n",
    "X_test, y_test = features.loc[test_ids], labels[test_ids]\n",
    "\n",
    "X_train, X_test = minmax_scale(X_train, X_test)"
   ]
  },
  {
   "cell_type": "code",
   "execution_count": 42,
   "id": "bd302b1e-ab66-462b-945a-c0ea36792bd7",
   "metadata": {},
   "outputs": [],
   "source": [
    "metadata = [\n",
    "            'Age', \n",
    "            'BodyMassIndex', \n",
    "            'BPTreatment', \n",
    "            'Smoking', \n",
    "            'PrevalentDiabetes', \n",
    "            'PrevalentHFAIL', \n",
    "            'Event_time', \n",
    "            'SystolicBP', \n",
    "            'NonHDLcholesterol', \n",
    "            'Sex'\n",
    "           ]\n",
    "\n",
    "meta_train = X_train[metadata].copy()\n",
    "rds_train = X_train.drop(metadata, axis=1)\n",
    "\n",
    "meta_test = X_test[metadata].copy()\n",
    "rds_test = X_test.drop(metadata, axis=1)"
   ]
  },
  {
   "cell_type": "code",
   "execution_count": 31,
   "id": "de35f574-dede-492a-a16a-45681a2c357f",
   "metadata": {},
   "outputs": [
    {
     "name": "stderr",
     "output_type": "stream",
     "text": [
      "/nfs/home/ababjac/base-venv/lib/python3.7/site-packages/ipykernel_launcher.py:65: DeprecationWarning: KerasClassifier is deprecated, use Sci-Keras (https://github.com/adriangb/scikeras) instead. See https://www.adriangb.com/scikeras/stable/migration.html for help migrating.\n",
      "2022-11-30 21:17:46.853314: W tensorflow/stream_executor/platform/default/dso_loader.cc:64] Could not load dynamic library 'libcuda.so.1'; dlerror: libcuda.so.1: cannot open shared object file: No such file or directory; LD_LIBRARY_PATH: /sw/isaac/compilers/intel/oneAPI_2021.2.0/mpi/latest/libfabric/lib:/sw/isaac/compilers/intel/oneAPI_2021.2.0/mpi/latest/lib/release:/sw/isaac/compilers/intel/oneAPI_2021.2.0/mpi/latest/lib:/sw/isaac/compilers/intel/oneAPI_2021.2.0/ippcp/latest/lib/intel64:/sw/isaac/compilers/intel/oneAPI_2021.2.0/ipp/latest/lib/intel64:/sw/isaac/compilers/intel/oneAPI_2021.2.0/itac/latest/slib:/sw/isaac/compilers/intel/oneAPI_2021.2.0/mkl/latest/lib/intel64:/sw/isaac/compilers/intel/oneAPI_2021.2.0/compiler/latest/linux/lib:/sw/isaac/compilers/intel/oneAPI_2021.2.0/compiler/latest/linux/lib/x64:/sw/isaac/compilers/intel/oneAPI_2021.2.0/compiler/latest/linux/lib/emu:/sw/isaac/compilers/intel/oneAPI_2021.2.0/compiler/latest/linux/compiler/lib/intel64_lin:/sw/isaac/compilers/intel/oneAPI_2021.2.0/debugger/latest/dep/lib:/sw/isaac/compilers/intel/oneAPI_2021.2.0/debugger/latest/libipt/intel64/lib:/sw/isaac/compilers/intel/oneAPI_2021.2.0/debugger/latest/gdb/intel64/lib:/sw/isaac/compilers/intel/oneAPI_2021.2.0/tbb/latest/lib/intel64/gcc4.8\n",
      "2022-11-30 21:17:46.858330: W tensorflow/stream_executor/cuda/cuda_driver.cc:263] failed call to cuInit: UNKNOWN ERROR (303)\n",
      "2022-11-30 21:17:46.858378: I tensorflow/stream_executor/cuda/cuda_diagnostics.cc:156] kernel driver does not appear to be running on this host (login2.cn.isaac.utk.edu): /proc/driver/nvidia/version does not exist\n"
     ]
    },
    {
     "name": "stdout",
     "output_type": "stream",
     "text": [
      "Fitting 5 folds for each of 36 candidates, totalling 180 fits\n"
     ]
    },
    {
     "name": "stderr",
     "output_type": "stream",
     "text": [
      "2022-11-30 21:17:46.860547: I tensorflow/core/platform/cpu_feature_guard.cc:193] This TensorFlow binary is optimized with oneAPI Deep Neural Network Library (oneDNN) to use the following CPU instructions in performance-critical operations:  AVX2 AVX512F AVX512_VNNI FMA\n",
      "To enable them in other operations, rebuild TensorFlow with the appropriate compiler flags.\n"
     ]
    },
    {
     "name": "stdout",
     "output_type": "stream",
     "text": [
      "[CV 1/5] END activation=relu, actual_dim=5749, latent_dim=100, loss=MAE, optimizer=SGD;, score=0.725 total time=   6.8s\n",
      "[CV 2/5] END activation=relu, actual_dim=5749, latent_dim=100, loss=MAE, optimizer=SGD;, score=0.727 total time=   5.5s\n",
      "[CV 3/5] END activation=relu, actual_dim=5749, latent_dim=100, loss=MAE, optimizer=SGD;, score=0.727 total time=   5.5s\n",
      "[CV 4/5] END activation=relu, actual_dim=5749, latent_dim=100, loss=MAE, optimizer=SGD;, score=0.731 total time=   5.3s\n",
      "[CV 5/5] END activation=relu, actual_dim=5749, latent_dim=100, loss=MAE, optimizer=SGD;, score=0.727 total time=   5.3s\n",
      "[CV 1/5] END activation=relu, actual_dim=5749, latent_dim=100, loss=MAE, optimizer=Adam;, score=0.725 total time=   5.5s\n",
      "[CV 2/5] END activation=relu, actual_dim=5749, latent_dim=100, loss=MAE, optimizer=Adam;, score=0.727 total time=   5.6s\n",
      "[CV 3/5] END activation=relu, actual_dim=5749, latent_dim=100, loss=MAE, optimizer=Adam;, score=0.727 total time=   5.4s\n",
      "[CV 4/5] END activation=relu, actual_dim=5749, latent_dim=100, loss=MAE, optimizer=Adam;, score=0.731 total time=   5.4s\n",
      "[CV 5/5] END activation=relu, actual_dim=5749, latent_dim=100, loss=MAE, optimizer=Adam;, score=0.727 total time=   5.5s\n",
      "[CV 1/5] END activation=relu, actual_dim=5749, latent_dim=100, loss=binary_crossentropy, optimizer=SGD;, score=0.725 total time=   6.3s\n",
      "[CV 2/5] END activation=relu, actual_dim=5749, latent_dim=100, loss=binary_crossentropy, optimizer=SGD;, score=0.727 total time=   6.7s\n",
      "[CV 3/5] END activation=relu, actual_dim=5749, latent_dim=100, loss=binary_crossentropy, optimizer=SGD;, score=0.727 total time=   6.3s\n",
      "[CV 4/5] END activation=relu, actual_dim=5749, latent_dim=100, loss=binary_crossentropy, optimizer=SGD;, score=0.731 total time=   6.2s\n",
      "[CV 5/5] END activation=relu, actual_dim=5749, latent_dim=100, loss=binary_crossentropy, optimizer=SGD;, score=0.727 total time=   6.4s\n",
      "[CV 1/5] END activation=relu, actual_dim=5749, latent_dim=100, loss=binary_crossentropy, optimizer=Adam;, score=0.725 total time=   6.3s\n",
      "[CV 2/5] END activation=relu, actual_dim=5749, latent_dim=100, loss=binary_crossentropy, optimizer=Adam;, score=0.727 total time=   6.4s\n",
      "[CV 3/5] END activation=relu, actual_dim=5749, latent_dim=100, loss=binary_crossentropy, optimizer=Adam;, score=0.727 total time=   6.4s\n",
      "[CV 4/5] END activation=relu, actual_dim=5749, latent_dim=100, loss=binary_crossentropy, optimizer=Adam;, score=0.731 total time=   6.4s\n",
      "[CV 5/5] END activation=relu, actual_dim=5749, latent_dim=100, loss=binary_crossentropy, optimizer=Adam;, score=0.727 total time=   6.3s\n",
      "[CV 1/5] END activation=relu, actual_dim=5749, latent_dim=200, loss=MAE, optimizer=SGD;, score=0.725 total time=   6.5s\n",
      "[CV 2/5] END activation=relu, actual_dim=5749, latent_dim=200, loss=MAE, optimizer=SGD;, score=0.727 total time=   6.2s\n",
      "[CV 3/5] END activation=relu, actual_dim=5749, latent_dim=200, loss=MAE, optimizer=SGD;, score=0.727 total time=   6.1s\n",
      "[CV 4/5] END activation=relu, actual_dim=5749, latent_dim=200, loss=MAE, optimizer=SGD;, score=0.731 total time=   6.1s\n",
      "[CV 5/5] END activation=relu, actual_dim=5749, latent_dim=200, loss=MAE, optimizer=SGD;, score=0.727 total time=   6.0s\n",
      "[CV 1/5] END activation=relu, actual_dim=5749, latent_dim=200, loss=MAE, optimizer=Adam;, score=0.725 total time=   6.3s\n",
      "[CV 2/5] END activation=relu, actual_dim=5749, latent_dim=200, loss=MAE, optimizer=Adam;, score=0.727 total time=   6.4s\n",
      "[CV 3/5] END activation=relu, actual_dim=5749, latent_dim=200, loss=MAE, optimizer=Adam;, score=0.727 total time=   6.3s\n",
      "[CV 4/5] END activation=relu, actual_dim=5749, latent_dim=200, loss=MAE, optimizer=Adam;, score=0.731 total time=   6.2s\n",
      "[CV 5/5] END activation=relu, actual_dim=5749, latent_dim=200, loss=MAE, optimizer=Adam;, score=0.727 total time=   6.4s\n",
      "[CV 1/5] END activation=relu, actual_dim=5749, latent_dim=200, loss=binary_crossentropy, optimizer=SGD;, score=0.725 total time=   7.0s\n",
      "[CV 2/5] END activation=relu, actual_dim=5749, latent_dim=200, loss=binary_crossentropy, optimizer=SGD;, score=0.727 total time=   7.5s\n",
      "[CV 3/5] END activation=relu, actual_dim=5749, latent_dim=200, loss=binary_crossentropy, optimizer=SGD;, score=0.727 total time=   7.2s\n",
      "[CV 4/5] END activation=relu, actual_dim=5749, latent_dim=200, loss=binary_crossentropy, optimizer=SGD;, score=0.731 total time=   7.0s\n",
      "[CV 5/5] END activation=relu, actual_dim=5749, latent_dim=200, loss=binary_crossentropy, optimizer=SGD;, score=0.727 total time=   7.0s\n",
      "[CV 1/5] END activation=relu, actual_dim=5749, latent_dim=200, loss=binary_crossentropy, optimizer=Adam;, score=0.725 total time=   7.2s\n",
      "[CV 2/5] END activation=relu, actual_dim=5749, latent_dim=200, loss=binary_crossentropy, optimizer=Adam;, score=0.727 total time=   7.2s\n",
      "[CV 3/5] END activation=relu, actual_dim=5749, latent_dim=200, loss=binary_crossentropy, optimizer=Adam;, score=0.727 total time=   7.3s\n",
      "[CV 4/5] END activation=relu, actual_dim=5749, latent_dim=200, loss=binary_crossentropy, optimizer=Adam;, score=0.731 total time=   7.2s\n",
      "[CV 5/5] END activation=relu, actual_dim=5749, latent_dim=200, loss=binary_crossentropy, optimizer=Adam;, score=0.727 total time=   7.5s\n",
      "[CV 1/5] END activation=relu, actual_dim=5749, latent_dim=500, loss=MAE, optimizer=SGD;, score=0.725 total time=   7.9s\n",
      "[CV 2/5] END activation=relu, actual_dim=5749, latent_dim=500, loss=MAE, optimizer=SGD;, score=0.727 total time=   7.3s\n",
      "[CV 3/5] END activation=relu, actual_dim=5749, latent_dim=500, loss=MAE, optimizer=SGD;, score=0.727 total time=   7.1s\n",
      "[CV 4/5] END activation=relu, actual_dim=5749, latent_dim=500, loss=MAE, optimizer=SGD;, score=0.731 total time=   7.1s\n",
      "[CV 5/5] END activation=relu, actual_dim=5749, latent_dim=500, loss=MAE, optimizer=SGD;, score=0.727 total time=   6.9s\n",
      "[CV 1/5] END activation=relu, actual_dim=5749, latent_dim=500, loss=MAE, optimizer=Adam;, score=0.725 total time=   7.6s\n",
      "[CV 2/5] END activation=relu, actual_dim=5749, latent_dim=500, loss=MAE, optimizer=Adam;, score=0.727 total time=   7.7s\n",
      "[CV 3/5] END activation=relu, actual_dim=5749, latent_dim=500, loss=MAE, optimizer=Adam;, score=0.727 total time=   7.7s\n",
      "[CV 4/5] END activation=relu, actual_dim=5749, latent_dim=500, loss=MAE, optimizer=Adam;, score=0.731 total time=   7.7s\n",
      "[CV 5/5] END activation=relu, actual_dim=5749, latent_dim=500, loss=MAE, optimizer=Adam;, score=0.727 total time=   7.4s\n",
      "[CV 1/5] END activation=relu, actual_dim=5749, latent_dim=500, loss=binary_crossentropy, optimizer=SGD;, score=0.725 total time=   7.9s\n",
      "[CV 2/5] END activation=relu, actual_dim=5749, latent_dim=500, loss=binary_crossentropy, optimizer=SGD;, score=0.727 total time=   8.7s\n",
      "[CV 3/5] END activation=relu, actual_dim=5749, latent_dim=500, loss=binary_crossentropy, optimizer=SGD;, score=0.727 total time=   8.2s\n",
      "[CV 4/5] END activation=relu, actual_dim=5749, latent_dim=500, loss=binary_crossentropy, optimizer=SGD;, score=0.731 total time=   8.2s\n",
      "[CV 5/5] END activation=relu, actual_dim=5749, latent_dim=500, loss=binary_crossentropy, optimizer=SGD;, score=0.727 total time=   8.1s\n",
      "[CV 1/5] END activation=relu, actual_dim=5749, latent_dim=500, loss=binary_crossentropy, optimizer=Adam;, score=0.725 total time=   8.7s\n",
      "[CV 2/5] END activation=relu, actual_dim=5749, latent_dim=500, loss=binary_crossentropy, optimizer=Adam;, score=0.727 total time=   8.4s\n",
      "[CV 3/5] END activation=relu, actual_dim=5749, latent_dim=500, loss=binary_crossentropy, optimizer=Adam;, score=0.727 total time=   8.5s\n",
      "[CV 4/5] END activation=relu, actual_dim=5749, latent_dim=500, loss=binary_crossentropy, optimizer=Adam;, score=0.731 total time=   8.9s\n",
      "[CV 5/5] END activation=relu, actual_dim=5749, latent_dim=500, loss=binary_crossentropy, optimizer=Adam;, score=0.727 total time=   8.6s\n",
      "[CV 1/5] END activation=sigmoid, actual_dim=5749, latent_dim=100, loss=MAE, optimizer=SGD;, score=0.528 total time=   5.7s\n",
      "[CV 2/5] END activation=sigmoid, actual_dim=5749, latent_dim=100, loss=MAE, optimizer=SGD;, score=0.523 total time=   5.3s\n",
      "[CV 3/5] END activation=sigmoid, actual_dim=5749, latent_dim=100, loss=MAE, optimizer=SGD;, score=0.521 total time=   5.3s\n",
      "[CV 4/5] END activation=sigmoid, actual_dim=5749, latent_dim=100, loss=MAE, optimizer=SGD;, score=0.529 total time=   5.2s\n",
      "[CV 5/5] END activation=sigmoid, actual_dim=5749, latent_dim=100, loss=MAE, optimizer=SGD;, score=0.523 total time=   5.2s\n",
      "[CV 1/5] END activation=sigmoid, actual_dim=5749, latent_dim=100, loss=MAE, optimizer=Adam;, score=0.725 total time=   5.4s\n",
      "[CV 2/5] END activation=sigmoid, actual_dim=5749, latent_dim=100, loss=MAE, optimizer=Adam;, score=0.727 total time=   5.4s\n",
      "[CV 3/5] END activation=sigmoid, actual_dim=5749, latent_dim=100, loss=MAE, optimizer=Adam;, score=0.727 total time=   5.3s\n",
      "[CV 4/5] END activation=sigmoid, actual_dim=5749, latent_dim=100, loss=MAE, optimizer=Adam;, score=0.731 total time=   5.3s\n",
      "[CV 5/5] END activation=sigmoid, actual_dim=5749, latent_dim=100, loss=MAE, optimizer=Adam;, score=0.727 total time=   5.3s\n",
      "[CV 1/5] END activation=sigmoid, actual_dim=5749, latent_dim=100, loss=binary_crossentropy, optimizer=SGD;, score=0.538 total time=   5.9s\n",
      "[CV 2/5] END activation=sigmoid, actual_dim=5749, latent_dim=100, loss=binary_crossentropy, optimizer=SGD;, score=0.539 total time=   6.2s\n",
      "[CV 3/5] END activation=sigmoid, actual_dim=5749, latent_dim=100, loss=binary_crossentropy, optimizer=SGD;, score=0.550 total time=   5.9s\n",
      "[CV 4/5] END activation=sigmoid, actual_dim=5749, latent_dim=100, loss=binary_crossentropy, optimizer=SGD;, score=0.538 total time=   5.9s\n",
      "[CV 5/5] END activation=sigmoid, actual_dim=5749, latent_dim=100, loss=binary_crossentropy, optimizer=SGD;, score=0.538 total time=   5.8s\n",
      "[CV 1/5] END activation=sigmoid, actual_dim=5749, latent_dim=100, loss=binary_crossentropy, optimizer=Adam;, score=0.725 total time=   6.1s\n",
      "[CV 2/5] END activation=sigmoid, actual_dim=5749, latent_dim=100, loss=binary_crossentropy, optimizer=Adam;, score=0.727 total time=   6.1s\n",
      "[CV 3/5] END activation=sigmoid, actual_dim=5749, latent_dim=100, loss=binary_crossentropy, optimizer=Adam;, score=0.727 total time=   6.1s\n",
      "[CV 4/5] END activation=sigmoid, actual_dim=5749, latent_dim=100, loss=binary_crossentropy, optimizer=Adam;, score=0.731 total time=   6.2s\n",
      "[CV 5/5] END activation=sigmoid, actual_dim=5749, latent_dim=100, loss=binary_crossentropy, optimizer=Adam;, score=0.727 total time=   6.1s\n",
      "[CV 1/5] END activation=sigmoid, actual_dim=5749, latent_dim=200, loss=MAE, optimizer=SGD;, score=0.521 total time=   6.0s\n",
      "[CV 2/5] END activation=sigmoid, actual_dim=5749, latent_dim=200, loss=MAE, optimizer=SGD;, score=0.520 total time=   6.4s\n",
      "[CV 3/5] END activation=sigmoid, actual_dim=5749, latent_dim=200, loss=MAE, optimizer=SGD;, score=0.528 total time=   6.1s\n",
      "[CV 4/5] END activation=sigmoid, actual_dim=5749, latent_dim=200, loss=MAE, optimizer=SGD;, score=0.531 total time=   6.0s\n",
      "[CV 5/5] END activation=sigmoid, actual_dim=5749, latent_dim=200, loss=MAE, optimizer=SGD;, score=0.533 total time=   6.1s\n",
      "[CV 1/5] END activation=sigmoid, actual_dim=5749, latent_dim=200, loss=MAE, optimizer=Adam;, score=0.725 total time=   6.4s\n",
      "[CV 2/5] END activation=sigmoid, actual_dim=5749, latent_dim=200, loss=MAE, optimizer=Adam;, score=0.727 total time=   6.2s\n",
      "[CV 3/5] END activation=sigmoid, actual_dim=5749, latent_dim=200, loss=MAE, optimizer=Adam;, score=0.727 total time=   6.2s\n",
      "[CV 4/5] END activation=sigmoid, actual_dim=5749, latent_dim=200, loss=MAE, optimizer=Adam;, score=0.731 total time=  11.1s\n",
      "[CV 5/5] END activation=sigmoid, actual_dim=5749, latent_dim=200, loss=MAE, optimizer=Adam;, score=0.727 total time=   6.2s\n",
      "[CV 1/5] END activation=sigmoid, actual_dim=5749, latent_dim=200, loss=binary_crossentropy, optimizer=SGD;, score=0.562 total time=   6.6s\n",
      "[CV 2/5] END activation=sigmoid, actual_dim=5749, latent_dim=200, loss=binary_crossentropy, optimizer=SGD;, score=0.549 total time=   6.6s\n",
      "[CV 3/5] END activation=sigmoid, actual_dim=5749, latent_dim=200, loss=binary_crossentropy, optimizer=SGD;, score=0.556 total time=   7.0s\n",
      "[CV 4/5] END activation=sigmoid, actual_dim=5749, latent_dim=200, loss=binary_crossentropy, optimizer=SGD;, score=0.548 total time=   6.7s\n",
      "[CV 5/5] END activation=sigmoid, actual_dim=5749, latent_dim=200, loss=binary_crossentropy, optimizer=SGD;, score=0.547 total time=   6.6s\n",
      "[CV 1/5] END activation=sigmoid, actual_dim=5749, latent_dim=200, loss=binary_crossentropy, optimizer=Adam;, score=0.725 total time=   6.9s\n",
      "[CV 2/5] END activation=sigmoid, actual_dim=5749, latent_dim=200, loss=binary_crossentropy, optimizer=Adam;, score=0.727 total time=   6.9s\n",
      "[CV 3/5] END activation=sigmoid, actual_dim=5749, latent_dim=200, loss=binary_crossentropy, optimizer=Adam;, score=0.727 total time=   6.9s\n",
      "[CV 4/5] END activation=sigmoid, actual_dim=5749, latent_dim=200, loss=binary_crossentropy, optimizer=Adam;, score=0.731 total time=   7.0s\n",
      "[CV 5/5] END activation=sigmoid, actual_dim=5749, latent_dim=200, loss=binary_crossentropy, optimizer=Adam;, score=0.727 total time=   6.8s\n",
      "[CV 1/5] END activation=sigmoid, actual_dim=5749, latent_dim=500, loss=MAE, optimizer=SGD;, score=0.541 total time=   7.1s\n",
      "[CV 2/5] END activation=sigmoid, actual_dim=5749, latent_dim=500, loss=MAE, optimizer=SGD;, score=0.547 total time=   7.1s\n",
      "[CV 3/5] END activation=sigmoid, actual_dim=5749, latent_dim=500, loss=MAE, optimizer=SGD;, score=0.539 total time=   7.6s\n",
      "[CV 4/5] END activation=sigmoid, actual_dim=5749, latent_dim=500, loss=MAE, optimizer=SGD;, score=0.547 total time=   7.1s\n",
      "[CV 5/5] END activation=sigmoid, actual_dim=5749, latent_dim=500, loss=MAE, optimizer=SGD;, score=0.547 total time=   7.4s\n",
      "[CV 1/5] END activation=sigmoid, actual_dim=5749, latent_dim=500, loss=MAE, optimizer=Adam;, score=0.725 total time=   7.7s\n",
      "[CV 2/5] END activation=sigmoid, actual_dim=5749, latent_dim=500, loss=MAE, optimizer=Adam;, score=0.727 total time=   7.7s\n",
      "[CV 3/5] END activation=sigmoid, actual_dim=5749, latent_dim=500, loss=MAE, optimizer=Adam;, score=0.727 total time=   7.3s\n",
      "[CV 4/5] END activation=sigmoid, actual_dim=5749, latent_dim=500, loss=MAE, optimizer=Adam;, score=0.731 total time=   7.5s\n",
      "[CV 5/5] END activation=sigmoid, actual_dim=5749, latent_dim=500, loss=MAE, optimizer=Adam;, score=0.727 total time=   7.6s\n",
      "[CV 1/5] END activation=sigmoid, actual_dim=5749, latent_dim=500, loss=binary_crossentropy, optimizer=SGD;, score=0.590 total time=   7.5s\n",
      "[CV 2/5] END activation=sigmoid, actual_dim=5749, latent_dim=500, loss=binary_crossentropy, optimizer=SGD;, score=0.589 total time=   7.6s\n",
      "[CV 3/5] END activation=sigmoid, actual_dim=5749, latent_dim=500, loss=binary_crossentropy, optimizer=SGD;, score=0.589 total time=   7.8s\n",
      "[CV 4/5] END activation=sigmoid, actual_dim=5749, latent_dim=500, loss=binary_crossentropy, optimizer=SGD;, score=0.586 total time=   8.2s\n",
      "[CV 5/5] END activation=sigmoid, actual_dim=5749, latent_dim=500, loss=binary_crossentropy, optimizer=SGD;, score=0.588 total time=   8.1s\n",
      "[CV 1/5] END activation=sigmoid, actual_dim=5749, latent_dim=500, loss=binary_crossentropy, optimizer=Adam;, score=0.725 total time=   8.4s\n",
      "[CV 2/5] END activation=sigmoid, actual_dim=5749, latent_dim=500, loss=binary_crossentropy, optimizer=Adam;, score=0.727 total time=   8.5s\n",
      "[CV 3/5] END activation=sigmoid, actual_dim=5749, latent_dim=500, loss=binary_crossentropy, optimizer=Adam;, score=0.727 total time=   8.3s\n",
      "[CV 4/5] END activation=sigmoid, actual_dim=5749, latent_dim=500, loss=binary_crossentropy, optimizer=Adam;, score=0.731 total time=   8.2s\n",
      "[CV 5/5] END activation=sigmoid, actual_dim=5749, latent_dim=500, loss=binary_crossentropy, optimizer=Adam;, score=0.727 total time=   8.7s\n",
      "[CV 1/5] END activation=tanh, actual_dim=5749, latent_dim=100, loss=MAE, optimizer=SGD;, score=0.725 total time=   5.2s\n",
      "[CV 2/5] END activation=tanh, actual_dim=5749, latent_dim=100, loss=MAE, optimizer=SGD;, score=0.727 total time=   5.1s\n",
      "[CV 3/5] END activation=tanh, actual_dim=5749, latent_dim=100, loss=MAE, optimizer=SGD;, score=0.727 total time=   5.2s\n",
      "[CV 4/5] END activation=tanh, actual_dim=5749, latent_dim=100, loss=MAE, optimizer=SGD;, score=0.731 total time=   5.5s\n",
      "[CV 5/5] END activation=tanh, actual_dim=5749, latent_dim=100, loss=MAE, optimizer=SGD;, score=0.727 total time=   5.3s\n",
      "[CV 1/5] END activation=tanh, actual_dim=5749, latent_dim=100, loss=MAE, optimizer=Adam;, score=0.725 total time=   5.5s\n",
      "[CV 2/5] END activation=tanh, actual_dim=5749, latent_dim=100, loss=MAE, optimizer=Adam;, score=0.727 total time=   5.4s\n",
      "[CV 3/5] END activation=tanh, actual_dim=5749, latent_dim=100, loss=MAE, optimizer=Adam;, score=0.727 total time=   5.3s\n",
      "[CV 4/5] END activation=tanh, actual_dim=5749, latent_dim=100, loss=MAE, optimizer=Adam;, score=0.731 total time=   5.4s\n",
      "[CV 5/5] END activation=tanh, actual_dim=5749, latent_dim=100, loss=MAE, optimizer=Adam;, score=0.727 total time=   5.3s\n",
      "[CV 1/5] END activation=tanh, actual_dim=5749, latent_dim=100, loss=binary_crossentropy, optimizer=SGD;, score=0.725 total time=   6.2s\n",
      "[CV 2/5] END activation=tanh, actual_dim=5749, latent_dim=100, loss=binary_crossentropy, optimizer=SGD;, score=0.727 total time=   6.1s\n",
      "[CV 3/5] END activation=tanh, actual_dim=5749, latent_dim=100, loss=binary_crossentropy, optimizer=SGD;, score=0.727 total time=   6.2s\n",
      "[CV 4/5] END activation=tanh, actual_dim=5749, latent_dim=100, loss=binary_crossentropy, optimizer=SGD;, score=0.731 total time=   6.1s\n",
      "[CV 5/5] END activation=tanh, actual_dim=5749, latent_dim=100, loss=binary_crossentropy, optimizer=SGD;, score=0.727 total time=   6.5s\n",
      "[CV 1/5] END activation=tanh, actual_dim=5749, latent_dim=100, loss=binary_crossentropy, optimizer=Adam;, score=0.725 total time=   6.4s\n",
      "[CV 2/5] END activation=tanh, actual_dim=5749, latent_dim=100, loss=binary_crossentropy, optimizer=Adam;, score=0.727 total time=   6.4s\n",
      "[CV 3/5] END activation=tanh, actual_dim=5749, latent_dim=100, loss=binary_crossentropy, optimizer=Adam;, score=0.727 total time=   6.3s\n",
      "[CV 4/5] END activation=tanh, actual_dim=5749, latent_dim=100, loss=binary_crossentropy, optimizer=Adam;, score=0.729 total time=   6.3s\n",
      "[CV 5/5] END activation=tanh, actual_dim=5749, latent_dim=100, loss=binary_crossentropy, optimizer=Adam;, score=0.727 total time=   6.2s\n",
      "[CV 1/5] END activation=tanh, actual_dim=5749, latent_dim=200, loss=MAE, optimizer=SGD;, score=0.725 total time=   6.0s\n",
      "[CV 2/5] END activation=tanh, actual_dim=5749, latent_dim=200, loss=MAE, optimizer=SGD;, score=0.727 total time=   6.0s\n",
      "[CV 3/5] END activation=tanh, actual_dim=5749, latent_dim=200, loss=MAE, optimizer=SGD;, score=0.727 total time=   6.0s\n",
      "[CV 4/5] END activation=tanh, actual_dim=5749, latent_dim=200, loss=MAE, optimizer=SGD;, score=0.731 total time=   6.0s\n",
      "[CV 5/5] END activation=tanh, actual_dim=5749, latent_dim=200, loss=MAE, optimizer=SGD;, score=0.727 total time=   6.5s\n",
      "[CV 1/5] END activation=tanh, actual_dim=5749, latent_dim=200, loss=MAE, optimizer=Adam;, score=0.725 total time=   6.3s\n",
      "[CV 2/5] END activation=tanh, actual_dim=5749, latent_dim=200, loss=MAE, optimizer=Adam;, score=0.727 total time=   6.5s\n",
      "[CV 3/5] END activation=tanh, actual_dim=5749, latent_dim=200, loss=MAE, optimizer=Adam;, score=0.727 total time=   6.3s\n",
      "[CV 4/5] END activation=tanh, actual_dim=5749, latent_dim=200, loss=MAE, optimizer=Adam;, score=0.731 total time=   6.1s\n",
      "[CV 5/5] END activation=tanh, actual_dim=5749, latent_dim=200, loss=MAE, optimizer=Adam;, score=0.727 total time=   6.1s\n",
      "[CV 1/5] END activation=tanh, actual_dim=5749, latent_dim=200, loss=binary_crossentropy, optimizer=SGD;, score=0.725 total time=   6.9s\n",
      "[CV 2/5] END activation=tanh, actual_dim=5749, latent_dim=200, loss=binary_crossentropy, optimizer=SGD;, score=0.727 total time=   6.9s\n",
      "[CV 3/5] END activation=tanh, actual_dim=5749, latent_dim=200, loss=binary_crossentropy, optimizer=SGD;, score=0.727 total time=   6.8s\n",
      "[CV 4/5] END activation=tanh, actual_dim=5749, latent_dim=200, loss=binary_crossentropy, optimizer=SGD;, score=0.731 total time=   7.0s\n",
      "[CV 5/5] END activation=tanh, actual_dim=5749, latent_dim=200, loss=binary_crossentropy, optimizer=SGD;, score=0.727 total time=   7.2s\n",
      "[CV 1/5] END activation=tanh, actual_dim=5749, latent_dim=200, loss=binary_crossentropy, optimizer=Adam;, score=0.725 total time=   7.3s\n",
      "[CV 2/5] END activation=tanh, actual_dim=5749, latent_dim=200, loss=binary_crossentropy, optimizer=Adam;, score=0.727 total time=   7.0s\n",
      "[CV 3/5] END activation=tanh, actual_dim=5749, latent_dim=200, loss=binary_crossentropy, optimizer=Adam;, score=0.728 total time=   7.0s\n",
      "[CV 4/5] END activation=tanh, actual_dim=5749, latent_dim=200, loss=binary_crossentropy, optimizer=Adam;, score=0.730 total time=   7.1s\n",
      "[CV 5/5] END activation=tanh, actual_dim=5749, latent_dim=200, loss=binary_crossentropy, optimizer=Adam;, score=0.728 total time=   7.4s\n",
      "[CV 1/5] END activation=tanh, actual_dim=5749, latent_dim=500, loss=MAE, optimizer=SGD;, score=0.725 total time=   7.1s\n",
      "[CV 2/5] END activation=tanh, actual_dim=5749, latent_dim=500, loss=MAE, optimizer=SGD;, score=0.727 total time=   6.9s\n",
      "[CV 3/5] END activation=tanh, actual_dim=5749, latent_dim=500, loss=MAE, optimizer=SGD;, score=0.727 total time=   7.1s\n",
      "[CV 4/5] END activation=tanh, actual_dim=5749, latent_dim=500, loss=MAE, optimizer=SGD;, score=0.731 total time=   6.9s\n",
      "[CV 5/5] END activation=tanh, actual_dim=5749, latent_dim=500, loss=MAE, optimizer=SGD;, score=0.727 total time=   7.3s\n",
      "[CV 1/5] END activation=tanh, actual_dim=5749, latent_dim=500, loss=MAE, optimizer=Adam;, score=0.725 total time=   8.5s\n",
      "[CV 2/5] END activation=tanh, actual_dim=5749, latent_dim=500, loss=MAE, optimizer=Adam;, score=0.727 total time=   7.6s\n",
      "[CV 3/5] END activation=tanh, actual_dim=5749, latent_dim=500, loss=MAE, optimizer=Adam;, score=0.727 total time=   7.7s\n",
      "[CV 4/5] END activation=tanh, actual_dim=5749, latent_dim=500, loss=MAE, optimizer=Adam;, score=0.731 total time=   8.0s\n",
      "[CV 5/5] END activation=tanh, actual_dim=5749, latent_dim=500, loss=MAE, optimizer=Adam;, score=0.727 total time=   7.5s\n",
      "[CV 1/5] END activation=tanh, actual_dim=5749, latent_dim=500, loss=binary_crossentropy, optimizer=SGD;, score=0.725 total time=   8.2s\n",
      "[CV 2/5] END activation=tanh, actual_dim=5749, latent_dim=500, loss=binary_crossentropy, optimizer=SGD;, score=0.727 total time=   7.9s\n",
      "[CV 3/5] END activation=tanh, actual_dim=5749, latent_dim=500, loss=binary_crossentropy, optimizer=SGD;, score=0.727 total time=   7.9s\n",
      "[CV 4/5] END activation=tanh, actual_dim=5749, latent_dim=500, loss=binary_crossentropy, optimizer=SGD;, score=0.730 total time=   7.9s\n",
      "[CV 5/5] END activation=tanh, actual_dim=5749, latent_dim=500, loss=binary_crossentropy, optimizer=SGD;, score=0.727 total time=   8.0s\n",
      "[CV 1/5] END activation=tanh, actual_dim=5749, latent_dim=500, loss=binary_crossentropy, optimizer=Adam;, score=0.727 total time=   9.5s\n",
      "[CV 2/5] END activation=tanh, actual_dim=5749, latent_dim=500, loss=binary_crossentropy, optimizer=Adam;, score=0.729 total time=   8.5s\n",
      "[CV 3/5] END activation=tanh, actual_dim=5749, latent_dim=500, loss=binary_crossentropy, optimizer=Adam;, score=0.730 total time=   8.6s\n",
      "[CV 4/5] END activation=tanh, actual_dim=5749, latent_dim=500, loss=binary_crossentropy, optimizer=Adam;, score=0.732 total time=   9.0s\n",
      "[CV 5/5] END activation=tanh, actual_dim=5749, latent_dim=500, loss=binary_crossentropy, optimizer=Adam;, score=0.730 total time=   8.8s\n",
      "112/112 [==============================] - 0s 2ms/step\n",
      "56/56 [==============================] - 0s 1ms/step\n"
     ]
    }
   ],
   "source": [
    "AE_train, AE_test = run_AE(rds_train, rds_test)"
   ]
  },
  {
   "cell_type": "code",
   "execution_count": 43,
   "id": "9055de25-76e9-4d5e-b5c0-d51a4fc252ce",
   "metadata": {},
   "outputs": [
    {
     "name": "stdout",
     "output_type": "stream",
     "text": [
      "Fitting 5 folds for each of 6 candidates, totalling 30 fits\n",
      "[CV 1/5] END .....................alpha=0.0001;, score=-0.007 total time=   0.0s\n",
      "[CV 2/5] END .....................alpha=0.0001;, score=-0.007 total time=   0.0s\n",
      "[CV 3/5] END .....................alpha=0.0001;, score=-0.008 total time=   0.0s\n",
      "[CV 4/5] END .....................alpha=0.0001;, score=-0.008 total time=   0.0s\n",
      "[CV 5/5] END .....................alpha=0.0001;, score=-0.006 total time=   0.0s\n",
      "[CV 1/5] END ......................alpha=0.001;, score=-0.007 total time=   0.0s\n",
      "[CV 2/5] END ......................alpha=0.001;, score=-0.007 total time=   0.0s\n",
      "[CV 3/5] END ......................alpha=0.001;, score=-0.008 total time=   0.0s\n",
      "[CV 4/5] END ......................alpha=0.001;, score=-0.008 total time=   0.0s\n",
      "[CV 5/5] END ......................alpha=0.001;, score=-0.006 total time=   0.0s\n",
      "[CV 1/5] END .......................alpha=0.01;, score=-0.011 total time=   0.0s\n",
      "[CV 2/5] END .......................alpha=0.01;, score=-0.016 total time=   0.0s\n",
      "[CV 3/5] END .......................alpha=0.01;, score=-0.012 total time=   0.0s\n",
      "[CV 4/5] END .......................alpha=0.01;, score=-0.013 total time=   0.0s\n",
      "[CV 5/5] END .......................alpha=0.01;, score=-0.009 total time=   0.0s\n",
      "[CV 1/5] END ........................alpha=0.1;, score=-0.019 total time=   0.0s\n",
      "[CV 2/5] END ........................alpha=0.1;, score=-0.027 total time=   0.0s\n",
      "[CV 3/5] END ........................alpha=0.1;, score=-0.019 total time=   0.0s\n",
      "[CV 4/5] END ........................alpha=0.1;, score=-0.022 total time=   0.0s\n",
      "[CV 5/5] END ........................alpha=0.1;, score=-0.015 total time=   0.0s\n",
      "[CV 1/5] END ..........................alpha=1;, score=-0.019 total time=   0.0s\n",
      "[CV 2/5] END ..........................alpha=1;, score=-0.027 total time=   0.0s\n",
      "[CV 3/5] END ..........................alpha=1;, score=-0.019 total time=   0.0s\n",
      "[CV 4/5] END ..........................alpha=1;, score=-0.022 total time=   0.0s\n",
      "[CV 5/5] END ..........................alpha=1;, score=-0.015 total time=   0.0s\n",
      "[CV 1/5] END .........................alpha=10;, score=-0.019 total time=   0.0s\n",
      "[CV 2/5] END .........................alpha=10;, score=-0.027 total time=   0.0s\n",
      "[CV 3/5] END .........................alpha=10;, score=-0.019 total time=   0.0s\n",
      "[CV 4/5] END .........................alpha=10;, score=-0.022 total time=   0.0s\n",
      "[CV 5/5] END .........................alpha=10;, score=-0.015 total time=   0.0s\n"
     ]
    }
   ],
   "source": [
    "ET = meta_train.pop('Event_time')\n",
    "important_cols = run_LASSO(meta_train, ET)\n",
    "important_cols = np.append(important_cols, 'Event_time')"
   ]
  },
  {
   "cell_type": "code",
   "execution_count": 48,
   "id": "e9e08720-32b8-45e7-b51f-80a49f0f47ed",
   "metadata": {},
   "outputs": [],
   "source": [
    "meta_train['Event_time'] = ET"
   ]
  },
  {
   "cell_type": "code",
   "execution_count": 60,
   "id": "254b6e78-22e7-468f-9ee7-695e4f1780f0",
   "metadata": {},
   "outputs": [],
   "source": [
    "AE_train_df = AE_train.join(meta_train[important_cols])\n",
    "AE_train_df = AE_train_df.set_index(train_ids)\n",
    "\n",
    "AE_test_df = AE_test.join(meta_test[important_cols])\n",
    "AE_test_df = AE_test_df.set_index(test_ids)"
   ]
  },
  {
   "cell_type": "code",
   "execution_count": 63,
   "id": "18d9a546-f340-4a07-ba89-28aae0fed2c7",
   "metadata": {},
   "outputs": [],
   "source": [
    "df_AE = pd.concat([AE_train_df, AE_test_df])\n",
    "df_AE['Event'] = true_labels"
   ]
  },
  {
   "cell_type": "code",
   "execution_count": 76,
   "id": "eb3ec3bf-f8a8-4ac9-8f89-2cce1e73bca0",
   "metadata": {},
   "outputs": [],
   "source": [
    "features = df_AE.copy()\n",
    "times = features.pop('Event_time')\n",
    "events = features.pop('Event')\n",
    "\n",
    "train_times = times[train_ids]\n",
    "train_events = events[train_ids]\n",
    "y_train = make_structured_array(train_events, train_times)\n",
    "\n",
    "test_times = times[test_ids]\n",
    "test_events = events[test_ids]\n",
    "y_test = make_structured_array(test_events, test_times)\n",
    "\n",
    "X_train = features.loc[train_ids]\n",
    "X_test = features.loc[test_ids]"
   ]
  },
  {
   "cell_type": "code",
   "execution_count": 77,
   "id": "699d59f6-4e87-4eb9-aac3-98be482fced3",
   "metadata": {},
   "outputs": [
    {
     "name": "stderr",
     "output_type": "stream",
     "text": [
      "/nfs/home/ababjac/base-venv/lib/python3.7/site-packages/sklearn/utils/validation.py:1692: FutureWarning: Feature names only support names that are all strings. Got feature names with dtypes: ['int', 'str']. An error will be raised in 1.2.\n",
      "  FutureWarning,\n"
     ]
    },
    {
     "name": "stdout",
     "output_type": "stream",
     "text": [
      "      Iter       Train Loss   Remaining Time \n",
      "         1        2229.5295            2.89m\n",
      "         2        2227.5130            2.82m\n",
      "         3        2223.6770            2.85m\n",
      "         4        2221.1164            2.88m\n",
      "         5        2218.9751            2.92m\n",
      "         6        2217.6603            2.95m\n",
      "         7        2216.8221            2.95m\n",
      "         8        2213.9814            2.95m\n",
      "         9        2211.5565            2.95m\n",
      "        10        2209.7938            2.94m\n",
      "        20        2193.0224            2.89m\n",
      "        30        2176.5054            2.86m\n",
      "        40        2158.8742            2.82m\n",
      "        50        2142.7963            2.77m\n",
      "        60        2123.4308            2.73m\n",
      "        70        2099.9496            2.69m\n",
      "        80        2078.2823            2.65m\n",
      "        90        2059.0448            2.62m\n",
      "       100        2043.7171            2.59m\n",
      "       200        1870.1472            2.27m\n",
      "       300        1717.1228            1.98m\n",
      "       400        1593.7166            1.69m\n",
      "       500        1495.8519            1.41m\n",
      "       600        1413.4049            1.13m\n",
      "       700        1344.6481           50.95s\n",
      "       800        1288.1565           34.06s\n",
      "       900        1241.7088           17.09s\n",
      "      1000        1202.6264            0.00s\n"
     ]
    },
    {
     "name": "stderr",
     "output_type": "stream",
     "text": [
      "/nfs/home/ababjac/base-venv/lib/python3.7/site-packages/sklearn/utils/validation.py:1692: FutureWarning: Feature names only support names that are all strings. Got feature names with dtypes: ['int', 'str']. An error will be raised in 1.2.\n",
      "  FutureWarning,\n"
     ]
    },
    {
     "data": {
      "text/plain": [
       "0.6062092496875106"
      ]
     },
     "execution_count": 77,
     "metadata": {},
     "output_type": "execute_result"
    }
   ],
   "source": [
    "est_cph_tree = GradientBoostingSurvivalAnalysis(\n",
    "    n_estimators=1000, \n",
    "    random_state=8993624,\n",
    "    loss='coxph',\n",
    "    max_depth=5,\n",
    "    max_features='sqrt',\n",
    "    verbose=1\n",
    "    )\n",
    "est_cph_tree.fit(X_train, y_train)\n",
    "est_cph_tree.score(X_test, y_test)"
   ]
  },
  {
   "cell_type": "code",
   "execution_count": 78,
   "id": "67b3b97d-8197-48fd-872a-4fbacf6f677b",
   "metadata": {},
   "outputs": [],
   "source": [
    "OUTPUT_DIR = 'UTK_Bioinformatics_Submission_1/output/'"
   ]
  },
  {
   "cell_type": "code",
   "execution_count": 82,
   "id": "e6e031ee-2d13-4ab9-9cc6-71655a81cc43",
   "metadata": {},
   "outputs": [],
   "source": [
    "CHECK_FOLDER = os.path.isdir(OUTPUT_DIR)\n",
    "if not CHECK_FOLDER:\n",
    "    os.makedirs(OUTPUT_DIR)"
   ]
  },
  {
   "cell_type": "code",
   "execution_count": 98,
   "id": "601d1484-4f70-4687-bc77-98705413ba42",
   "metadata": {},
   "outputs": [
    {
     "name": "stderr",
     "output_type": "stream",
     "text": [
      "/nfs/home/ababjac/base-venv/lib/python3.7/site-packages/sklearn/utils/validation.py:1692: FutureWarning: Feature names only support names that are all strings. Got feature names with dtypes: ['int', 'str']. An error will be raised in 1.2.\n",
      "  FutureWarning,\n"
     ]
    }
   ],
   "source": [
    "y_preds = est_cph_tree.predict(X_test)"
   ]
  },
  {
   "cell_type": "code",
   "execution_count": null,
   "id": "79e22730-8cd5-4908-9dff-c0d595243b61",
   "metadata": {},
   "outputs": [],
   "source": [
    "y_preds = normalize(y_preds) #ensure range 0-1"
   ]
  },
  {
   "cell_type": "code",
   "execution_count": 99,
   "id": "e3f5726b-7b13-44fe-83d9-3fd29d967b5d",
   "metadata": {},
   "outputs": [],
   "source": [
    "data = {'SampleID' : test_ids, 'Score' : y_preds}\n",
    "out_df = pd.DataFrame(data)\n",
    "out_df.to_csv(OUTPUT_DIR+'scores.csv', index=False)"
   ]
  }
 ],
 "metadata": {
  "kernelspec": {
   "display_name": "Python 3 (ipykernel)",
   "language": "python",
   "name": "python3"
  },
  "language_info": {
   "codemirror_mode": {
    "name": "ipython",
    "version": 3
   },
   "file_extension": ".py",
   "mimetype": "text/x-python",
   "name": "python",
   "nbconvert_exporter": "python",
   "pygments_lexer": "ipython3",
   "version": "3.7.9"
  }
 },
 "nbformat": 4,
 "nbformat_minor": 5
}
