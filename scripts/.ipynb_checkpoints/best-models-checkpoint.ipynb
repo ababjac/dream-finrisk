{
 "cells": [
  {
   "cell_type": "code",
   "execution_count": 1,
   "id": "4a31463f-716c-4fe5-8cf1-3dd352a6d761",
   "metadata": {
    "tags": []
   },
   "outputs": [
    {
     "name": "stderr",
     "output_type": "stream",
     "text": [
      "2022-11-18 09:45:54.571867: I tensorflow/core/platform/cpu_feature_guard.cc:193] This TensorFlow binary is optimized with oneAPI Deep Neural Network Library (oneDNN) to use the following CPU instructions in performance-critical operations:  AVX2 AVX512F AVX512_VNNI FMA\n",
      "To enable them in other operations, rebuild TensorFlow with the appropriate compiler flags.\n",
      "2022-11-18 09:45:56.230425: I tensorflow/core/util/util.cc:169] oneDNN custom operations are on. You may see slightly different numerical results due to floating-point round-off errors from different computation orders. To turn them off, set the environment variable `TF_ENABLE_ONEDNN_OPTS=0`.\n",
      "2022-11-18 09:45:56.938602: W tensorflow/stream_executor/platform/default/dso_loader.cc:64] Could not load dynamic library 'libcudart.so.11.0'; dlerror: libcudart.so.11.0: cannot open shared object file: No such file or directory; LD_LIBRARY_PATH: /sw/isaac/compilers/intel/oneAPI_2021.2.0/mpi/latest/libfabric/lib:/sw/isaac/compilers/intel/oneAPI_2021.2.0/mpi/latest/lib/release:/sw/isaac/compilers/intel/oneAPI_2021.2.0/mpi/latest/lib:/sw/isaac/compilers/intel/oneAPI_2021.2.0/ippcp/latest/lib/intel64:/sw/isaac/compilers/intel/oneAPI_2021.2.0/ipp/latest/lib/intel64:/sw/isaac/compilers/intel/oneAPI_2021.2.0/itac/latest/slib:/sw/isaac/compilers/intel/oneAPI_2021.2.0/mkl/latest/lib/intel64:/sw/isaac/compilers/intel/oneAPI_2021.2.0/compiler/latest/linux/lib:/sw/isaac/compilers/intel/oneAPI_2021.2.0/compiler/latest/linux/lib/x64:/sw/isaac/compilers/intel/oneAPI_2021.2.0/compiler/latest/linux/lib/emu:/sw/isaac/compilers/intel/oneAPI_2021.2.0/compiler/latest/linux/compiler/lib/intel64_lin:/sw/isaac/compilers/intel/oneAPI_2021.2.0/debugger/latest/dep/lib:/sw/isaac/compilers/intel/oneAPI_2021.2.0/debugger/latest/libipt/intel64/lib:/sw/isaac/compilers/intel/oneAPI_2021.2.0/debugger/latest/gdb/intel64/lib:/sw/isaac/compilers/intel/oneAPI_2021.2.0/tbb/latest/lib/intel64/gcc4.8\n",
      "2022-11-18 09:45:56.938613: I tensorflow/stream_executor/cuda/cudart_stub.cc:29] Ignore above cudart dlerror if you do not have a GPU set up on your machine.\n",
      "2022-11-18 09:45:57.146341: E tensorflow/stream_executor/cuda/cuda_blas.cc:2981] Unable to register cuBLAS factory: Attempting to register factory for plugin cuBLAS when one has already been registered\n",
      "2022-11-18 09:46:01.980113: W tensorflow/stream_executor/platform/default/dso_loader.cc:64] Could not load dynamic library 'libnvinfer.so.7'; dlerror: libnvinfer.so.7: cannot open shared object file: No such file or directory; LD_LIBRARY_PATH: /sw/isaac/compilers/intel/oneAPI_2021.2.0/mpi/latest/libfabric/lib:/sw/isaac/compilers/intel/oneAPI_2021.2.0/mpi/latest/lib/release:/sw/isaac/compilers/intel/oneAPI_2021.2.0/mpi/latest/lib:/sw/isaac/compilers/intel/oneAPI_2021.2.0/ippcp/latest/lib/intel64:/sw/isaac/compilers/intel/oneAPI_2021.2.0/ipp/latest/lib/intel64:/sw/isaac/compilers/intel/oneAPI_2021.2.0/itac/latest/slib:/sw/isaac/compilers/intel/oneAPI_2021.2.0/mkl/latest/lib/intel64:/sw/isaac/compilers/intel/oneAPI_2021.2.0/compiler/latest/linux/lib:/sw/isaac/compilers/intel/oneAPI_2021.2.0/compiler/latest/linux/lib/x64:/sw/isaac/compilers/intel/oneAPI_2021.2.0/compiler/latest/linux/lib/emu:/sw/isaac/compilers/intel/oneAPI_2021.2.0/compiler/latest/linux/compiler/lib/intel64_lin:/sw/isaac/compilers/intel/oneAPI_2021.2.0/debugger/latest/dep/lib:/sw/isaac/compilers/intel/oneAPI_2021.2.0/debugger/latest/libipt/intel64/lib:/sw/isaac/compilers/intel/oneAPI_2021.2.0/debugger/latest/gdb/intel64/lib:/sw/isaac/compilers/intel/oneAPI_2021.2.0/tbb/latest/lib/intel64/gcc4.8\n",
      "2022-11-18 09:46:01.983586: W tensorflow/stream_executor/platform/default/dso_loader.cc:64] Could not load dynamic library 'libnvinfer_plugin.so.7'; dlerror: libnvinfer_plugin.so.7: cannot open shared object file: No such file or directory; LD_LIBRARY_PATH: /sw/isaac/compilers/intel/oneAPI_2021.2.0/mpi/latest/libfabric/lib:/sw/isaac/compilers/intel/oneAPI_2021.2.0/mpi/latest/lib/release:/sw/isaac/compilers/intel/oneAPI_2021.2.0/mpi/latest/lib:/sw/isaac/compilers/intel/oneAPI_2021.2.0/ippcp/latest/lib/intel64:/sw/isaac/compilers/intel/oneAPI_2021.2.0/ipp/latest/lib/intel64:/sw/isaac/compilers/intel/oneAPI_2021.2.0/itac/latest/slib:/sw/isaac/compilers/intel/oneAPI_2021.2.0/mkl/latest/lib/intel64:/sw/isaac/compilers/intel/oneAPI_2021.2.0/compiler/latest/linux/lib:/sw/isaac/compilers/intel/oneAPI_2021.2.0/compiler/latest/linux/lib/x64:/sw/isaac/compilers/intel/oneAPI_2021.2.0/compiler/latest/linux/lib/emu:/sw/isaac/compilers/intel/oneAPI_2021.2.0/compiler/latest/linux/compiler/lib/intel64_lin:/sw/isaac/compilers/intel/oneAPI_2021.2.0/debugger/latest/dep/lib:/sw/isaac/compilers/intel/oneAPI_2021.2.0/debugger/latest/libipt/intel64/lib:/sw/isaac/compilers/intel/oneAPI_2021.2.0/debugger/latest/gdb/intel64/lib:/sw/isaac/compilers/intel/oneAPI_2021.2.0/tbb/latest/lib/intel64/gcc4.8\n",
      "2022-11-18 09:46:01.983595: W tensorflow/compiler/tf2tensorrt/utils/py_utils.cc:38] TF-TRT Warning: Cannot dlopen some TensorRT libraries. If you would like to use Nvidia GPU with TensorRT, please make sure the missing libraries mentioned above are installed properly.\n",
      "/nfs/home/ababjac/base-venv/lib/python3.7/site-packages/tqdm/auto.py:22: TqdmWarning: IProgress not found. Please update jupyter and ipywidgets. See https://ipywidgets.readthedocs.io/en/stable/user_install.html\n",
      "  from .autonotebook import tqdm as notebook_tqdm\n"
     ]
    }
   ],
   "source": [
    "#libraries\n",
    "import pandas as pd\n",
    "import numpy as np\n",
    "\n",
    "from lifelines.utils import concordance_index\n",
    "from sklearn.model_selection import train_test_split\n",
    "from sksurv.ensemble import RandomSurvivalForest, GradientBoostingSurvivalAnalysis\n",
    "from sksurv.svm import FastKernelSurvivalSVM\n",
    "from sksurv.linear_model import CoxnetSurvivalAnalysis\n",
    "\n",
    "import helpers\n",
    "import models\n",
    "import classifiers\n",
    "import graphing\n",
    "import survival_models"
   ]
  },
  {
   "cell_type": "code",
   "execution_count": 2,
   "id": "df1b8d4b-5195-467a-aad7-ba8630ecbd81",
   "metadata": {
    "tags": []
   },
   "outputs": [
    {
     "data": {
      "text/plain": [
       "<module 'survival_models' from '/nfs/home/ababjac/dream-finrisk/scripts/survival_models.py'>"
      ]
     },
     "execution_count": 2,
     "metadata": {},
     "output_type": "execute_result"
    }
   ],
   "source": [
    "#code sources\n",
    "import importlib\n",
    "importlib.reload(helpers)\n",
    "importlib.reload(models)\n",
    "importlib.reload(classifiers)\n",
    "importlib.reload(graphing)\n",
    "importlib.reload(survival_models)"
   ]
  },
  {
   "cell_type": "code",
   "execution_count": 2,
   "id": "5edf3c97-0eab-4065-8479-79c450f1c7b6",
   "metadata": {
    "tags": []
   },
   "outputs": [],
   "source": [
    "PATH = '/lustre/isaac/proj/UTK0196/dream-finrisk-data/DreamHF/'"
   ]
  },
  {
   "cell_type": "code",
   "execution_count": 16,
   "id": "a27c2335-c07a-462e-8819-3d5d0734d9db",
   "metadata": {},
   "outputs": [],
   "source": [
    "#again change data format\n",
    "df_PCA = pd.read_csv(PATH+'PCA_reduced.csv', header=0, index_col=0)\n",
    "#df_PCA = df_PCA[df_PCA['Event_time'] > 0]\n",
    "features = df_PCA.copy()\n",
    "times = features.pop('Event_time')\n",
    "events = features.pop('Event')\n",
    "labels = helpers.make_structured_array(events, times)\n",
    "X_train, X_test, y_train, y_test = train_test_split(features, labels, test_size=0.2, random_state=5)"
   ]
  },
  {
   "cell_type": "code",
   "execution_count": 27,
   "id": "d941549b-1045-4bd9-b385-f6f8b5952a0d",
   "metadata": {
    "tags": []
   },
   "outputs": [
    {
     "data": {
      "text/plain": [
       "0.706111238269627"
      ]
     },
     "execution_count": 27,
     "metadata": {},
     "output_type": "execute_result"
    }
   ],
   "source": [
    "cox_elastic_net = CoxnetSurvivalAnalysis(\n",
    "    alpha_min_ratio=0.01, \n",
    "    max_iter=500,\n",
    "    alphas=[0.008989769533208247],\n",
    "    l1_ratio=1,\n",
    "    verbose=1\n",
    "    )\n",
    "cox_elastic_net.fit(X_train, y_train)\n",
    "cox_elastic_net.score(X_test, y_test)"
   ]
  },
  {
   "cell_type": "code",
   "execution_count": 5,
   "id": "55387c6e-5c66-478f-a258-ab19aba7c31a",
   "metadata": {},
   "outputs": [
    {
     "name": "stdout",
     "output_type": "stream",
     "text": [
      "      Iter       Train Loss   Remaining Time \n",
      "         1        1809.2627            2.67m\n",
      "         2        1807.6430            2.65m\n",
      "         3        1806.5699            2.65m\n",
      "         4        1804.8564            2.64m\n",
      "         5        1802.0558            2.64m\n",
      "         6        1800.9473            2.67m\n",
      "         7        1798.4728            2.70m\n",
      "         8        1794.9247            2.72m\n",
      "         9        1792.5492            2.74m\n",
      "        10        1791.0652            2.76m\n",
      "        20        1773.6035            2.80m\n",
      "        30        1757.1196            2.78m\n",
      "        40        1738.7181            2.75m\n",
      "        50        1720.2408            2.71m\n",
      "        60        1703.4067            2.66m\n",
      "        70        1684.4746            2.62m\n",
      "        80        1668.5174            2.59m\n",
      "        90        1651.5315            2.55m\n",
      "       100        1635.3260            2.51m\n",
      "       200        1491.4232            2.20m\n",
      "       300        1377.8490            1.91m\n",
      "       400        1288.0160            1.63m\n",
      "       500        1214.0990            1.36m\n",
      "       600        1147.5233            1.09m\n",
      "       700        1091.7358           49.11s\n",
      "       800        1043.1972           32.86s\n",
      "       900        1003.5331           16.50s\n",
      "      1000         968.1387            0.00s\n"
     ]
    },
    {
     "data": {
      "text/plain": [
       "0.7125845654636177"
      ]
     },
     "execution_count": 5,
     "metadata": {},
     "output_type": "execute_result"
    }
   ],
   "source": [
    "est_cph_tree = GradientBoostingSurvivalAnalysis(\n",
    "    n_estimators=1000, \n",
    "    random_state=8993624,\n",
    "    loss='coxph',\n",
    "    max_depth=5,\n",
    "    max_features='sqrt',\n",
    "    verbose=1\n",
    "    )\n",
    "est_cph_tree.fit(X_train, y_train)\n",
    "est_cph_tree.score(X_test, y_test)"
   ]
  },
  {
   "cell_type": "code",
   "execution_count": 10,
   "id": "29905cd6-65d8-4213-b203-0679096e9c6d",
   "metadata": {},
   "outputs": [],
   "source": [
    "#again change data format\n",
    "df_AE = pd.read_csv(PATH+'AE_reduced3.csv', header=0, index_col=0)\n",
    "#df_AE = df_AE[df_AE['Event_time'] > 0]\n",
    "features = df_AE.copy()\n",
    "times = features.pop('Event_time')\n",
    "events = features.pop('Event')\n",
    "labels = helpers.make_structured_array(events, times)\n",
    "X_train, X_test, y_train, y_test = train_test_split(features, labels, test_size=0.2, random_state=5)"
   ]
  },
  {
   "cell_type": "code",
   "execution_count": 25,
   "id": "d51662de-e6d6-4b33-8d0c-ef98bb249fd9",
   "metadata": {
    "tags": []
   },
   "outputs": [
    {
     "data": {
      "text/plain": [
       "0.6977257121454878"
      ]
     },
     "execution_count": 25,
     "metadata": {},
     "output_type": "execute_result"
    }
   ],
   "source": [
    "cox_elastic_net = CoxnetSurvivalAnalysis(\n",
    "    alpha_min_ratio=0.01, \n",
    "    max_iter=500,\n",
    "    alphas=[0.008383182469240965],\n",
    "    l1_ratio=0.9,\n",
    "    verbose=1\n",
    "    )\n",
    "cox_elastic_net.fit(X_train, y_train)\n",
    "cox_elastic_net.score(X_test, y_test)"
   ]
  },
  {
   "cell_type": "code",
   "execution_count": 8,
   "id": "63dbb529-dcad-4811-b866-eac5d33a6447",
   "metadata": {},
   "outputs": [
    {
     "name": "stdout",
     "output_type": "stream",
     "text": [
      "      Iter       Train Loss   Remaining Time \n",
      "         1        1807.2137            2.72m\n",
      "         2        1806.0528            2.68m\n",
      "         3        1804.5021            2.67m\n",
      "         4        1803.0683            2.66m\n",
      "         5        1801.4478            2.66m\n",
      "         6        1799.4551            2.69m\n",
      "         7        1797.5968            2.72m\n",
      "         8        1795.6730            2.74m\n",
      "         9        1794.0368            2.76m\n",
      "        10        1792.8620            2.78m\n",
      "        20        1776.4305            2.83m\n",
      "        30        1758.4724            2.81m\n",
      "        40        1743.5082            2.77m\n",
      "        50        1727.9337            2.74m\n",
      "        60        1713.7871            2.70m\n",
      "        70        1697.5167            2.67m\n",
      "        80        1684.8162            2.63m\n",
      "        90        1669.2815            2.59m\n",
      "       100        1653.4784            2.55m\n",
      "       200        1506.6597            2.22m\n",
      "       300        1381.6656            1.93m\n",
      "       400        1282.7579            1.65m\n",
      "       500        1197.1116            1.37m\n",
      "       600        1127.3459            1.10m\n",
      "       700        1070.3978           49.56s\n",
      "       800        1025.1679           33.18s\n",
      "       900         983.7897           16.67s\n",
      "      1000         949.0355            0.00s\n"
     ]
    },
    {
     "data": {
      "text/plain": [
       "0.7150947439311843"
      ]
     },
     "execution_count": 8,
     "metadata": {},
     "output_type": "execute_result"
    }
   ],
   "source": [
    "est_cph_tree = GradientBoostingSurvivalAnalysis(\n",
    "    n_estimators=1000, \n",
    "    random_state=8993624,\n",
    "    loss='coxph',\n",
    "    max_depth=5,\n",
    "    max_features='sqrt',\n",
    "    verbose=1\n",
    "    )\n",
    "est_cph_tree.fit(X_train, y_train)\n",
    "est_cph_tree.score(X_test, y_test)"
   ]
  },
  {
   "cell_type": "code",
   "execution_count": 15,
   "id": "8730a878-d223-4e6d-b1e7-58115b03cf56",
   "metadata": {},
   "outputs": [
    {
     "name": "stdout",
     "output_type": "stream",
     "text": [
      "Optimization terminated successfully.\n",
      "         Current function value: 2124.628430\n",
      "         Iterations: 5\n",
      "         Function evaluations: 6\n",
      "         Gradient evaluations: 6\n",
      "         Hessian evaluations: 21\n"
     ]
    },
    {
     "data": {
      "text/plain": [
       "0.6500759483135313"
      ]
     },
     "execution_count": 15,
     "metadata": {},
     "output_type": "execute_result"
    }
   ],
   "source": [
    "kssvm = FastKernelSurvivalSVM(\n",
    "    random_state=9835511,\n",
    "    alpha=0.01, \n",
    "    gamma=1,\n",
    "    kernel='linear',\n",
    "    verbose=1\n",
    ")\n",
    "kssvm.fit(X_train, y_train)\n",
    "kssvm.score(X_test, y_test)"
   ]
  }
 ],
 "metadata": {
  "kernelspec": {
   "display_name": "Python 3 (ipykernel)",
   "language": "python",
   "name": "python3"
  },
  "language_info": {
   "codemirror_mode": {
    "name": "ipython",
    "version": 3
   },
   "file_extension": ".py",
   "mimetype": "text/x-python",
   "name": "python",
   "nbconvert_exporter": "python",
   "pygments_lexer": "ipython3",
   "version": "3.7.9"
  }
 },
 "nbformat": 4,
 "nbformat_minor": 5
}
